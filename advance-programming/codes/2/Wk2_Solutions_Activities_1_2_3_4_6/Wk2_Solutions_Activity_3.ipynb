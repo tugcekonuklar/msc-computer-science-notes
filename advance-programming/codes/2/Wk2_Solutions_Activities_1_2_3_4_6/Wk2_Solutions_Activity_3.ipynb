{
 "cells": [
  {
   "cell_type": "markdown",
   "metadata": {},
   "source": [
    "## 2.8 Activity 3: Exceptions and assertions\n",
    "### Exercise one\n",
    "\n",
    "Exceptions – the following code sample (MissingExceptions.ipynb) produces different errors. Use appropriate structures to catch and handle the exceptions generated. Handling an exception can be just outputting a message or activating the code that solves the problem.\n",
    "\n",
    "There are a number of built-in exceptions; you will need to do some research around these to solve the tasks."
   ]
  },
  {
   "cell_type": "code",
   "execution_count": null,
   "metadata": {},
   "outputs": [],
   "source": [
    "# This code needs correcting using try .. except\n",
    "# Test this with the following pairs of values 30 and 3, 5 and 45, 0 and 0, \n",
    "# 'hit enter key' to find the type of error/s that are generated\n",
    "try:\n",
    "    num1 = int(input(\"Enter a number:\" ))\n",
    "    num2 = int(input(\"Enter another number:\" ))\n",
    "    \n",
    "    if num1 > num2:\n",
    "        if num1%num2 == 0:\n",
    "            print(num1, \" is a multiple of \", num2)\n",
    "    else:\n",
    "        if num2%num1 == 0:\n",
    "            print(num2, \" is a multiple of \", num1)\n",
    "    # there is also a logic error here, what happens if neither number\n",
    "    # is a multiple of the other?\n",
    "except ValueError:\n",
    "    print(\"Error: That is no a valid number\")\n",
    "except ZeroDivisionError:\n",
    "    print(\"Error: Cannot divid by zero\")\n",
    "except:\n",
    "    print(\"Error: Unexpected type of error:\", sys.exc_info()[0])\n",
    "\n"
   ]
  },
  {
   "cell_type": "code",
   "execution_count": null,
   "metadata": {},
   "outputs": [],
   "source": [
    "# User input requires a list of space seperated words Create a small list to see what error is generated\n",
    "names = input(\"List of names:\") \n",
    "nameList = names.split()\n",
    "try:\n",
    "    print(nameList[1000])\n",
    "except IndexError:\n",
    "    print('Error: The list is to small for the index. Need more words...')"
   ]
  },
  {
   "cell_type": "code",
   "execution_count": null,
   "metadata": {},
   "outputs": [],
   "source": [
    "# This is an easy mistake to make by users\n",
    "randomList = ['67', 53, '3O',72, '10']\n",
    "\n",
    "try:\n",
    "    for i in randomList:\n",
    "        print(int(i) * 10)\n",
    "except ValueError :\n",
    "    print(\"Error: Not all thoose values are numbers\")"
   ]
  },
  {
   "cell_type": "code",
   "execution_count": 2,
   "metadata": {},
   "outputs": [
    {
     "name": "stdout",
     "output_type": "stream",
     "text": [
      "Enter File:myFile.txt\n",
      "Error: That file does not exist\n"
     ]
    }
   ],
   "source": [
    "# validating user given file names, what can go wrong?\n",
    "try:\n",
    "    fileName = input(\"Enter File:\")\n",
    "    print(open(fileName).read())\n",
    "except FileNotFoundError:\n",
    "    print(\"Error: That file does not exist\")"
   ]
  },
  {
   "cell_type": "markdown",
   "metadata": {},
   "source": [
    "### Exercise two\n",
    "\n",
    "Assertions – review the code you have already written (in Python or Java). Select 2 or 3 programs and demonstrate where assertions would have been useful to test and debug your code. "
   ]
  },
  {
   "cell_type": "code",
   "execution_count": null,
   "metadata": {},
   "outputs": [],
   "source": [
    "# the code example from Exe 1 above\n",
    "names = input(\"List of names:\") \n",
    "nameList = names.split()\n",
    "assert len(nameList) > 1000,\"List is to short.\"\n",
    "print(nameList[1000])"
   ]
  }
 ],
 "metadata": {
  "kernelspec": {
   "display_name": "Python 3",
   "language": "python",
   "name": "python3"
  },
  "language_info": {
   "codemirror_mode": {
    "name": "ipython",
    "version": 3
   },
   "file_extension": ".py",
   "mimetype": "text/x-python",
   "name": "python",
   "nbconvert_exporter": "python",
   "pygments_lexer": "ipython3",
   "version": "3.7.2"
  }
 },
 "nbformat": 4,
 "nbformat_minor": 2
}
