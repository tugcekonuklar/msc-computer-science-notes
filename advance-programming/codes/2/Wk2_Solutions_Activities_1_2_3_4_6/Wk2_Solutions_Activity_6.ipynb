{
 "cells": [
  {
   "cell_type": "markdown",
   "metadata": {},
   "source": [
    "## 2.14 Activity 6: Databases\n",
    "### Exercise 1\n",
    "1. Download (Links to an external site.) and install the community edition of MongoDB using the following install guide (Links to an external site.), or refer to the setup instructions in the Study Skills module.\n",
    "\n",
    "2. Setup and test your document database with the following JSON file.\n",
    "\n",
    "4. Write programming statements that extract the following information from your database:\n",
    "\n",
    "    The full name of anyone over 25\n",
    "    The id of anyone who does not have any middle names\n",
    "    Count how many men and how many women (separately) are not living in Tokyo."
   ]
  },
  {
   "cell_type": "code",
   "execution_count": 8,
   "metadata": {},
   "outputs": [
    {
     "name": "stdout",
     "output_type": "stream",
     "text": [
      "[]\n",
      "['admin', 'config', 'local', 'university']\n"
     ]
    }
   ],
   "source": [
    "\n",
    "import pymongo\n",
    "client = pymongo.MongoClient(\"mongodb://localhost:27017/\")\n",
    "\n",
    "# checking what is currently in the database\n",
    "print(db.list_collection_names())\n",
    "print(client.list_database_names())"
   ]
  },
  {
   "cell_type": "code",
   "execution_count": 9,
   "metadata": {},
   "outputs": [],
   "source": [
    "db = client[\"People\"]\n",
    "collection = db[\"personalDetails\"]\n",
    "# remember no chaneges to db until the first record is added"
   ]
  },
  {
   "cell_type": "code",
   "execution_count": 10,
   "metadata": {},
   "outputs": [
    {
     "name": "stdout",
     "output_type": "stream",
     "text": [
      "5d21ec06c40e26656e741889\n",
      "5d21ec06c40e26656e74188a\n",
      "5d21ec06c40e26656e74188b\n",
      "5d21ec06c40e26656e74188c\n",
      "5d21ec06c40e26656e74188d\n"
     ]
    }
   ],
   "source": [
    "import json\n",
    "with open('People.json') as file:\n",
    "    data = json.load(file)\n",
    "    for item in data[\"students\"]:\n",
    "        ins = collection.insert_one(item)\n",
    "       \n",
    "        # printing the generated uds helps determine \n",
    "        # the number of recordes added\n",
    "        print(ins.inserted_id)"
   ]
  },
  {
   "cell_type": "code",
   "execution_count": 12,
   "metadata": {},
   "outputs": [
    {
     "name": "stdout",
     "output_type": "stream",
     "text": [
      "['personalDetails']\n",
      "['People', 'admin', 'config', 'local', 'university']\n",
      "{'_id': ObjectId('5d21ec06c40e26656e741889'), 'id': 897654, 'fullName': {'title': 'Mrs', 'first': 'Lisa', 'surname': 'Penny', 'other': ['Melanie']}, 'age': 32, 'city': 'London'}\n",
      "{'_id': ObjectId('5d21ec06c40e26656e74188a'), 'id': 786789, 'fullName': {'title': 'Mr', 'first': 'Lorenzo', 'surname': 'Dubois', 'other': ['Ruelle', 'Garlen']}, 'age': 38, 'city': 'Paris'}\n",
      "{'_id': ObjectId('5d21ec06c40e26656e74188b'), 'id': 546854, 'fullName': {'title': 'Mr', 'first': 'Takeshi', 'surname': 'Tanaka', 'other': [None]}, 'age': 25, 'city': 'Tokyo'}\n",
      "{'_id': ObjectId('5d21ec06c40e26656e74188c'), 'id': 238751, 'fullName': {'title': 'Mr', 'first': 'Tanveer', 'surname': 'Patel', 'other': ['Vihaan']}, 'age': 27, 'city': 'Mumbai'}\n",
      "{'_id': ObjectId('5d21ec06c40e26656e74188d'), 'id': 894573, 'fullName': {'title': 'Miss', 'first': 'Iolanda', 'surname': 'Melo', 'other': ['Bianca']}, 'age': 23, 'city': 'Lisbon'}\n"
     ]
    }
   ],
   "source": [
    "# cofirm records have gernated the correct structure\n",
    "print(db.list_collection_names())\n",
    "print(client.list_database_names())\n",
    "results = collection.find({})\n",
    "for r in results:\n",
    "    print(r)"
   ]
  },
  {
   "cell_type": "code",
   "execution_count": 17,
   "metadata": {
    "scrolled": true
   },
   "outputs": [
    {
     "name": "stdout",
     "output_type": "stream",
     "text": [
      "{'fullName': {'first': 'Lisa'}, 'age': 32}\n",
      "{'fullName': {'first': 'Lorenzo'}, 'age': 38}\n",
      "{'fullName': {'first': 'Tanveer'}, 'age': 27}\n"
     ]
    }
   ],
   "source": [
    "# The full name of anyone over 25\n",
    "# results = collection.find({},{'_id':0, 'age':1,'fullName.first':1,'fullName.surename':1})\n",
    "results = collection.find({'age':{'$gt':25}},{'_id':0, 'age':1,'fullName.first':1,'fullName.surename':1})\n",
    "for r in results:\n",
    "    print(r)"
   ]
  },
  {
   "cell_type": "code",
   "execution_count": 28,
   "metadata": {},
   "outputs": [
    {
     "name": "stdout",
     "output_type": "stream",
     "text": [
      "{'_id': ObjectId('5d21ec06c40e26656e74188b')}\n"
     ]
    }
   ],
   "source": [
    "# The id of anyone who does not have any middle names\n",
    "#results = collection.find({},{'_id':1, 'fullName.other':1})\n",
    "results = collection.find({'fullName.other':{'$eq':None}},{'_id':1})\n",
    "for r in results:\n",
    "    print(r)"
   ]
  },
  {
   "cell_type": "code",
   "execution_count": 38,
   "metadata": {},
   "outputs": [
    {
     "name": "stdout",
     "output_type": "stream",
     "text": [
      "Mrs\n",
      "{'fullName': {'title': 'Mrs'}}\n",
      "Mr\n",
      "{'fullName': {'title': 'Mr'}}\n",
      "Mr\n",
      "{'fullName': {'title': 'Mr'}}\n",
      "Miss\n",
      "{'fullName': {'title': 'Miss'}}\n",
      "Men: 2 Women 2\n"
     ]
    }
   ],
   "source": [
    "# Count how many men and how many women (separately) are not living in Tokyo.\n",
    "men = 0\n",
    "women = 0 \n",
    "\n",
    "results = collection.find({'city':{'$ne':'Tokyo'}},{'_id':0, 'fullName.title':1})\n",
    "for r in results:\n",
    "    title = r['fullName']['title'] # nested ditionaries \n",
    "    #print(title)\n",
    "    if title == 'Mr':\n",
    "        men += 1\n",
    "    else:\n",
    "        women +=1\n",
    "    print(r)\n",
    "\n",
    "print('Men:', men, 'Women', women)"
   ]
  }
 ],
 "metadata": {
  "kernelspec": {
   "display_name": "Python 3",
   "language": "python",
   "name": "python3"
  },
  "language_info": {
   "codemirror_mode": {
    "name": "ipython",
    "version": 3
   },
   "file_extension": ".py",
   "mimetype": "text/x-python",
   "name": "python",
   "nbconvert_exporter": "python",
   "pygments_lexer": "ipython3",
   "version": "3.7.2"
  }
 },
 "nbformat": 4,
 "nbformat_minor": 2
}
