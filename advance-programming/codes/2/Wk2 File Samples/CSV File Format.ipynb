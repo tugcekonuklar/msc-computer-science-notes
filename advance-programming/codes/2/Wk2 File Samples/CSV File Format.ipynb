{
 "cells": [
  {
   "cell_type": "markdown",
   "metadata": {},
   "source": [
    "## Python split()\n",
    "Slide 1"
   ]
  },
  {
   "cell_type": "code",
   "execution_count": null,
   "metadata": {},
   "outputs": [],
   "source": [
    "nameString =\"Takeshi Tanaka,Lisa Penny,Lorenzo Dubois\"\n",
    "nameString"
   ]
  },
  {
   "cell_type": "code",
   "execution_count": null,
   "metadata": {},
   "outputs": [],
   "source": [
    "nameList = nameString.split(',')\n",
    "nameList"
   ]
  },
  {
   "cell_type": "code",
   "execution_count": null,
   "metadata": {},
   "outputs": [],
   "source": [
    "for i in nameList:\n",
    "    print(i)"
   ]
  },
  {
   "cell_type": "markdown",
   "metadata": {},
   "source": [
    "## Python split()\n",
    "Slide 2"
   ]
  },
  {
   "cell_type": "code",
   "execution_count": null,
   "metadata": {},
   "outputs": [],
   "source": [
    "personString = \"Takeshi Tanaka,25,1.73,Tokyo\"\n",
    "personString"
   ]
  },
  {
   "cell_type": "code",
   "execution_count": null,
   "metadata": {},
   "outputs": [],
   "source": [
    "details = personString.split(',')\n",
    "takTan = {\"name\":details[0], \"age\":details[1], \"height\":details[2], \"city\":details[3]}\n",
    "print(f\"\\nMy name is {takTan['name']}, aged {takTan['age']}\", end=\"\")\n",
    "print(f\"\\nI am {takTan['height']}m tall, and live in {takTan['city']}\", end=\"\")"
   ]
  },
  {
   "cell_type": "markdown",
   "metadata": {},
   "source": [
    "## Constructing CSV"
   ]
  },
  {
   "cell_type": "code",
   "execution_count": null,
   "metadata": {},
   "outputs": [],
   "source": [
    "delimiter = ','\n",
    "endLine = '\\n'\n",
    "csvString = \"\"\n",
    "\n",
    "people = {\"p1\": [\"Takeshi Tanaka\",25,1.73,\"Tokyo\"],\n",
    "          \"p2\": [\"Lisa Penny\", 32, 1.69, \"Londo\"],\n",
    "          \"p3\": [\"Lorenzo Dubois\", 38, 1.84, \"Paris\"]}\n",
    "\n",
    "for key in people:\n",
    "    csvString += (key + delimiter)\n",
    "    details = people.get(key)\n",
    "    csvString += (details[0] + delimiter)\n",
    "    csvString += (str(details[1]) + delimiter)\n",
    "    csvString += (str(details[2]) + delimiter)\n",
    "    csvString += (details[3] + endLine)\n",
    "    \n",
    "print(csvString)"
   ]
  }
 ],
 "metadata": {
  "kernelspec": {
   "display_name": "Python 3",
   "language": "python",
   "name": "python3"
  },
  "language_info": {
   "codemirror_mode": {
    "name": "ipython",
    "version": 3
   },
   "file_extension": ".py",
   "mimetype": "text/x-python",
   "name": "python",
   "nbconvert_exporter": "python",
   "pygments_lexer": "ipython3",
   "version": "3.7.2"
  }
 },
 "nbformat": 4,
 "nbformat_minor": 2
}
