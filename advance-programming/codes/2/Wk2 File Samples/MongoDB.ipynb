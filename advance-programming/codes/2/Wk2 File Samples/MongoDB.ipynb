{
 "cells": [
  {
   "cell_type": "markdown",
   "metadata": {},
   "source": [
    "## Adding Documents\n",
    "This code is unlikely to work in Google collaborate, given security aspects around access local host externally."
   ]
  },
  {
   "cell_type": "code",
   "execution_count": 3,
   "metadata": {},
   "outputs": [
    {
     "name": "stdout",
     "output_type": "stream",
     "text": [
      "['admin', 'config', 'local']\n"
     ]
    }
   ],
   "source": [
    "import pymongo\n",
    "client = pymongo.MongoClient(\"mongodb://localhost:27017/\")\n",
    "print(client.list_database_names())"
   ]
  },
  {
   "cell_type": "code",
   "execution_count": 4,
   "metadata": {},
   "outputs": [],
   "source": [
    "db = client[\"university\"]"
   ]
  },
  {
   "cell_type": "code",
   "execution_count": 5,
   "metadata": {},
   "outputs": [],
   "source": [
    "collection = db[\"studentAdmin\"]"
   ]
  },
  {
   "cell_type": "code",
   "execution_count": 6,
   "metadata": {},
   "outputs": [
    {
     "name": "stdout",
     "output_type": "stream",
     "text": [
      "[]\n",
      "['admin', 'config', 'local']\n"
     ]
    }
   ],
   "source": [
    "print(db.list_collection_names())\n",
    "print(client.list_database_names())"
   ]
  },
  {
   "cell_type": "code",
   "execution_count": null,
   "metadata": {},
   "outputs": [],
   "source": [
    "student ={\"_id\": 436958, \"fullName\":{\"title\":\"Miss\",\"first\":\"Damaris\",\"surname\":\"Galani\"}, \"age\": 20, \"city\": \"Athens\"}\n",
    "ins = collection.insert_one(student)"
   ]
  },
  {
   "cell_type": "code",
   "execution_count": null,
   "metadata": {},
   "outputs": [],
   "source": [
    "print(ins.inserted_id)\n",
    "print(db.list_collection_names())\n",
    "print(client.list_database_names())"
   ]
  },
  {
   "cell_type": "code",
   "execution_count": null,
   "metadata": {},
   "outputs": [],
   "source": [
    "transcripts =[{\"studentID\":436958, \"grades\":[{\"maths\":[78,81]}, {\"art\":[\"B-\",\"A\"]},{\"IT\": [\"Pass\", 67, \"B\"]}]},\n",
    "              {\"studentID\":897654,\"grades\":[{\"maths\":[54,63]}, {\"art\":[\"C+\",\"B+\"]},{\"IT\": [\"Pass\", 32, \"C+\"]}]},\n",
    "              {\"studentID\":786789,\"grades\":[{\"maths\":[32,41]}, {\"art\":[\"C-\",\"C-\"]},{\"IT\": [\"Fail\", 73, \"D+\"]}]},\n",
    "              {\"studentID\":546854,\"grades\":[{\"maths\":[73,81]}, {\"art\":[\"C-\",\"C+\"]},{\"IT\": [\"Pass\", 63, \"B+\"]}]},\n",
    "              {\"studentID\":238751,\"grades\": [{\"maths\":[66,57]}, {\"art\":[\"C-\",\"D+\"]},{\"IT\": [\"Pass\", 41, \"C-\"]}]},\n",
    "              {\"studentID\":894573,\"grades\": [{\"maths\":[43,45]}, {\"art\":[\"B+\",\"A-\"]},{\"IT\": [\"Fail\", 63, \"C-\"]}]}]\n",
    "ins = collection.insert_many(transcripts)\n",
    "print(ins.inserted_ids)"
   ]
  },
  {
   "cell_type": "code",
   "execution_count": null,
   "metadata": {},
   "outputs": [],
   "source": [
    "import json\n",
    "with open('Students.json') as file:\n",
    "    data = json.load(file)\n",
    "    for item in data[\"students\"]:\n",
    "        ins = collection.insert_one(item)\n",
    "        print(ins.inserted_id)"
   ]
  },
  {
   "cell_type": "markdown",
   "metadata": {},
   "source": [
    "## Querying Documents"
   ]
  },
  {
   "cell_type": "code",
   "execution_count": null,
   "metadata": {},
   "outputs": [],
   "source": [
    "results = collection.find({})\n",
    "for r in results:\n",
    "    print(r)"
   ]
  },
  {
   "cell_type": "code",
   "execution_count": null,
   "metadata": {},
   "outputs": [],
   "source": [
    "results = collection.find({},{'_id':0, 'age':1,'grades.maths':1})\n",
    "for r in results:\n",
    "    print(r)"
   ]
  },
  {
   "cell_type": "code",
   "execution_count": null,
   "metadata": {},
   "outputs": [],
   "source": [
    "results = collection.find({'age':{'$lt':30}},{'fullName.surname':1})\n",
    "for r in results:\n",
    "    print(r)"
   ]
  },
  {
   "cell_type": "code",
   "execution_count": null,
   "metadata": {},
   "outputs": [],
   "source": [
    "mathsResults = []\n",
    "results.rewind()\n",
    "for r in results:\n",
    "    stuID = r.get('_id')# dictionary\n",
    "    print(stuID)\n",
    "    results2 = collection.find({'studentID':stuID}, {'_id':0, 'grades.maths':1})\n",
    "    for r2 in results2:\n",
    "        print(r2)\n",
    "        mathsResults.append({stuID:r2.get('grades')[0]})"
   ]
  },
  {
   "cell_type": "code",
   "execution_count": null,
   "metadata": {},
   "outputs": [],
   "source": [
    "for g in mathsResults:\n",
    "    print(g)"
   ]
  },
  {
   "cell_type": "markdown",
   "metadata": {},
   "source": [
    "## Update and delete documents"
   ]
  },
  {
   "cell_type": "code",
   "execution_count": null,
   "metadata": {},
   "outputs": [],
   "source": [
    "import pprint\n",
    "result = collection.find_one({'studentID':238751}, {'_id':0, 'grades.art':1})\n",
    "pprint.pprint(result)"
   ]
  },
  {
   "cell_type": "code",
   "execution_count": null,
   "metadata": {},
   "outputs": [],
   "source": [
    "updated = collection.update_one({'studentID':238751},{'$set':{'grades.1.art.1':'C+'}})"
   ]
  },
  {
   "cell_type": "code",
   "execution_count": null,
   "metadata": {},
   "outputs": [],
   "source": [
    "if updated:\n",
    "    result = collection.find_one({'studentID':238751},{'_id':0, 'grades.art':1})\n",
    "    pprint.pprint(result)\n",
    "    print(\"Update complete\")"
   ]
  },
  {
   "cell_type": "code",
   "execution_count": null,
   "metadata": {},
   "outputs": [],
   "source": [
    "updated = collection.update_many({'studentID':{'$gt':0}}, {'$set':{'grades.1.music':[0,0]}})\n",
    "print(updated.matched_count)\n",
    "results = collection.find({'studentID':{'$gt':0}}, {'_id':0, 'grades':1})\n",
    "for r in results:\n",
    "    print(r)"
   ]
  },
  {
   "cell_type": "code",
   "execution_count": null,
   "metadata": {},
   "outputs": [],
   "source": [
    "toDelete = 238751\n",
    "delResult = collection.delete_many({'$or':[{'studentID':toDelete}, {'_id':toDelete}]})\n",
    "print(delResult.deleted_count)"
   ]
  },
  {
   "cell_type": "code",
   "execution_count": null,
   "metadata": {},
   "outputs": [],
   "source": [
    "results = collection.find({})\n",
    "for r in results:\n",
    "    print(r)"
   ]
  }
 ],
 "metadata": {
  "kernelspec": {
   "display_name": "Python 3",
   "language": "python",
   "name": "python3"
  },
  "language_info": {
   "codemirror_mode": {
    "name": "ipython",
    "version": 3
   },
   "file_extension": ".py",
   "mimetype": "text/x-python",
   "name": "python",
   "nbconvert_exporter": "python",
   "pygments_lexer": "ipython3",
   "version": "3.7.3"
  }
 },
 "nbformat": 4,
 "nbformat_minor": 2
}
