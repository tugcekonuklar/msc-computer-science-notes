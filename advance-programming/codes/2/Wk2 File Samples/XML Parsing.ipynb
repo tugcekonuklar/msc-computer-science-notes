{
 "cells": [
  {
   "cell_type": "markdown",
   "metadata": {},
   "source": [
    "## Importing and searching\n",
    "You will need to make sure the code has access to the file 'StudentActivities.xml'"
   ]
  },
  {
   "cell_type": "code",
   "execution_count": null,
   "metadata": {},
   "outputs": [],
   "source": [
    "import xml.etree.ElementTree as ET\n",
    "\n",
    "tree = ET.parse('StudentActivities.xml')\n",
    "\n",
    "root = tree.getroot()"
   ]
  },
  {
   "cell_type": "code",
   "execution_count": null,
   "metadata": {},
   "outputs": [],
   "source": [
    "root.tag"
   ]
  },
  {
   "cell_type": "code",
   "execution_count": null,
   "metadata": {},
   "outputs": [],
   "source": [
    "root.attrib"
   ]
  },
  {
   "cell_type": "code",
   "execution_count": null,
   "metadata": {},
   "outputs": [],
   "source": [
    "root.text"
   ]
  },
  {
   "cell_type": "code",
   "execution_count": null,
   "metadata": {},
   "outputs": [],
   "source": [
    "participant1 = root[0]\n",
    "ET.dump(participant1)"
   ]
  },
  {
   "cell_type": "code",
   "execution_count": null,
   "metadata": {},
   "outputs": [],
   "source": [
    "gender = root[1][0] \n",
    "course = root[3][2]\n",
    "print(gender.tag, gender.attrib, gender.text)\n",
    "print(course.tag, course.attrib, course.text)"
   ]
  },
  {
   "cell_type": "code",
   "execution_count": null,
   "metadata": {},
   "outputs": [],
   "source": [
    "gaming = participant1[5]\n",
    "device = participant1[7]\n",
    "print(gaming.tag, gaming.attrib, gaming.text)\n",
    "print(device.tag, device.attrib, device.text)"
   ]
  },
  {
   "cell_type": "code",
   "execution_count": null,
   "metadata": {},
   "outputs": [],
   "source": [
    " for child in root:\n",
    "    ppID = child.get('id')\n",
    "    age = child.find('age')\n",
    "    email = child.find('email')\n",
    "    meas = email.get('measure')\n",
    "    print(f\"participant {ppID} is {age.text}\", end=\"\")\n",
    "    print(f\" and access email {email.text}{meas}\")"
   ]
  },
  {
   "cell_type": "markdown",
   "metadata": {},
   "source": [
    "## Editing and exporting"
   ]
  },
  {
   "cell_type": "code",
   "execution_count": null,
   "metadata": {},
   "outputs": [],
   "source": [
    "newData =\"BTEC,ALevel,ALevel,NVQ4,BTEC,BTEC,ALevel,NVQ3,BTEC,ALevel,AS,BTEC,ALevel,ALevel,GCSE,BTEC\"\n",
    "data = newData.split(',')"
   ]
  },
  {
   "cell_type": "code",
   "execution_count": null,
   "metadata": {},
   "outputs": [],
   "source": [
    "i = 0\n",
    "for child in root:\n",
    "    newElm = ET.Element('education',{'update':'28/3/19'})\n",
    "    newElm.text = data[i]\n",
    "    i += 1\n",
    "    child.append(newElm)"
   ]
  },
  {
   "cell_type": "code",
   "execution_count": null,
   "metadata": {},
   "outputs": [],
   "source": [
    "ET.dump(root)"
   ]
  },
  {
   "cell_type": "code",
   "execution_count": null,
   "metadata": {},
   "outputs": [],
   "source": [
    "for pp in root.findall('participant'):\n",
    "    for child in pp:\n",
    "        try:\n",
    "            value = int(child.text)\n",
    "            if value == 0:\n",
    "                root.remove(pp)\n",
    "        except ValueError:\n",
    "            pass"
   ]
  },
  {
   "cell_type": "code",
   "execution_count": null,
   "metadata": {},
   "outputs": [],
   "source": [
    "tree.write(\"EditedSurvey.xml\")"
   ]
  },
  {
   "cell_type": "code",
   "execution_count": null,
   "metadata": {},
   "outputs": [],
   "source": [
    "gender = []\n",
    "age = []\n",
    "course = []"
   ]
  },
  {
   "cell_type": "code",
   "execution_count": null,
   "metadata": {},
   "outputs": [],
   "source": [
    "for child in root:\n",
    "    gender.append(child[0].text)\n",
    "    age.append(child[1].text)\n",
    "    course.append(child[2].text)"
   ]
  },
  {
   "cell_type": "code",
   "execution_count": null,
   "metadata": {},
   "outputs": [],
   "source": [
    "gender"
   ]
  },
  {
   "cell_type": "code",
   "execution_count": null,
   "metadata": {},
   "outputs": [],
   "source": [
    "age"
   ]
  },
  {
   "cell_type": "code",
   "execution_count": null,
   "metadata": {},
   "outputs": [],
   "source": [
    "course"
   ]
  },
  {
   "cell_type": "code",
   "execution_count": null,
   "metadata": {},
   "outputs": [],
   "source": [
    "id = 1\n",
    "newRoot = ET.Element('surveySection')\n",
    "\n",
    "for i in range(1,len(age)):\n",
    "    stElm = ET.SubElement(newRoot, 'student', {'id':str(i)})\n",
    "    detElm = ET.SubElement(stElm, 'details')\n",
    "    couElm = ET.SubElement(stElm, 'course')\n",
    "    genElm = ET.SubElement(detElm, 'gender')\n",
    "    ageElm = ET.SubElement(detElm, 'age')\n",
    "    genElm.text = gender[i]\n",
    "    ageElm.text = age[i]\n",
    "    couElm.text = course[i]"
   ]
  },
  {
   "cell_type": "code",
   "execution_count": null,
   "metadata": {},
   "outputs": [],
   "source": [
    "newTree = ET.ElementTree(newRoot)\n",
    "\n",
    "newTree.write(\"suverySection.xml\")"
   ]
  }
 ],
 "metadata": {
  "kernelspec": {
   "display_name": "Python 3",
   "language": "python",
   "name": "python3"
  },
  "language_info": {
   "codemirror_mode": {
    "name": "ipython",
    "version": 3
   },
   "file_extension": ".py",
   "mimetype": "text/x-python",
   "name": "python",
   "nbconvert_exporter": "python",
   "pygments_lexer": "ipython3",
   "version": "3.7.2"
  }
 },
 "nbformat": 4,
 "nbformat_minor": 2
}
