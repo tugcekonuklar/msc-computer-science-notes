{
 "cells": [
  {
   "cell_type": "markdown",
   "metadata": {},
   "source": [
    "## search()"
   ]
  },
  {
   "cell_type": "code",
   "execution_count": null,
   "metadata": {},
   "outputs": [],
   "source": [
    "import re\n",
    "\n",
    "york = \"The University of York\"\n",
    "result = re.search(\"The.*York$\", york)\n",
    "\n",
    "if (result):\n",
    "    print(\"YES! We have a match using search!\")\n",
    "else:\n",
    "    print(\"No match found\")"
   ]
  },
  {
   "cell_type": "markdown",
   "metadata": {},
   "source": [
    "## sub()"
   ]
  },
  {
   "cell_type": "code",
   "execution_count": null,
   "metadata": {},
   "outputs": [],
   "source": [
    "import re\n",
    "\n",
    "york = \"The University of York\"\n",
    "result = re.sub(\"U.*y\", \"City\", york)\n",
    "\n",
    "result"
   ]
  },
  {
   "cell_type": "markdown",
   "metadata": {},
   "source": [
    "## findall()\n",
    "In this case you will have to make sure the code has access to the file \"Humpty_Dumpty.txt\""
   ]
  },
  {
   "cell_type": "code",
   "execution_count": null,
   "metadata": {},
   "outputs": [],
   "source": [
    "import re\n",
    "\n",
    "file = open(\"Humpty_Dumpty.txt\")\n",
    "humptyDumpty = \"\"\n",
    "\n",
    "for line in file:\n",
    "    humptyDumpty += line\n",
    "\n",
    "result = re.findall(\"[aA]l{2}\", humptyDumpty)\n",
    "\n",
    "result"
   ]
  },
  {
   "cell_type": "markdown",
   "metadata": {},
   "source": [
    "## split()\n",
    "In this case you will have to make sure the code has access to the file \"Humpty_Dumpty.txt\""
   ]
  },
  {
   "cell_type": "code",
   "execution_count": null,
   "metadata": {},
   "outputs": [],
   "source": [
    "import re\n",
    "\n",
    "file = open(\"Humpty_Dumpty.txt\")\n",
    "humptyDumpty = \"\"\n",
    "for line in file:\n",
    "    humptyDumpty += line\n",
    "    \n",
    "print(humptyDumpty)\n",
    "\n",
    "# any three lettered word not starting with Aa\n",
    "result = re.split(\"\\s[^aA][a-zA-Z]{2}\\s\", humptyDumpty)\n",
    "print(result)"
   ]
  }
 ],
 "metadata": {
  "kernelspec": {
   "display_name": "Python 3",
   "language": "python",
   "name": "python3"
  },
  "language_info": {
   "codemirror_mode": {
    "name": "ipython",
    "version": 3
   },
   "file_extension": ".py",
   "mimetype": "text/x-python",
   "name": "python",
   "nbconvert_exporter": "python",
   "pygments_lexer": "ipython3",
   "version": "3.7.2"
  }
 },
 "nbformat": 4,
 "nbformat_minor": 2
}
