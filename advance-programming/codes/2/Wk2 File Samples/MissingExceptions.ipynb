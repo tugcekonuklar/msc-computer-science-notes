{
 "cells": [
  {
   "cell_type": "markdown",
   "metadata": {},
   "source": [
    "This code needs correcting using try .. except\n",
    "\n",
    "Test this with the following pairs of values \n",
    "30 and 3, 5 and 45, 0 and 0, 'hit enter key' \n",
    "to find the type of error/s that are generated"
   ]
  },
  {
   "cell_type": "code",
   "execution_count": null,
   "metadata": {},
   "outputs": [],
   "source": [
    "num1 = int(input(\"Enter a number:\" ))\n",
    "num2 = int(input(\"Enter another number:\" ))\n",
    "\n",
    "if num1 > num2:\n",
    "    if num1%num2 == 0:\n",
    "        print(num1, \" is a multiple of \", num2)\n",
    "else:\n",
    "    if num2%num1 == 0:Missing E\n",
    "        print(num2, \" is a multiple of \", num1)"
   ]
  },
  {
   "cell_type": "markdown",
   "metadata": {},
   "source": [
    "User input requires a list of space seperated words\n",
    "Create a small list to see what error is generated"
   ]
  },
  {
   "cell_type": "code",
   "execution_count": null,
   "metadata": {},
   "outputs": [],
   "source": [
    "names = input(\"List of names:\") \n",
    "nameList = names.split()\n",
    "print(nameList[1000])"
   ]
  },
  {
   "cell_type": "markdown",
   "metadata": {},
   "source": [
    "This is an easy misatke to make by users"
   ]
  },
  {
   "cell_type": "code",
   "execution_count": null,
   "metadata": {},
   "outputs": [],
   "source": [
    "randomList = ['67', 53, '3O',72, '10']\n",
    "\n",
    "for i in randomList:\n",
    "    print(int(i) * 10)"
   ]
  },
  {
   "cell_type": "markdown",
   "metadata": {},
   "source": [
    "validating user given file names, what can go wrong?"
   ]
  },
  {
   "cell_type": "code",
   "execution_count": null,
   "metadata": {},
   "outputs": [],
   "source": [
    "fileName = input(\"Enter File:\")\n",
    "print(open(fileName).read())"
   ]
  }
 ],
 "metadata": {
  "kernelspec": {
   "display_name": "Python 3",
   "language": "python",
   "name": "python3"
  },
  "language_info": {
   "codemirror_mode": {
    "name": "ipython",
    "version": 3
   },
   "file_extension": ".py",
   "mimetype": "text/x-python",
   "name": "python",
   "nbconvert_exporter": "python",
   "pygments_lexer": "ipython3",
   "version": "3.7.3"
  }
 },
 "nbformat": 4,
 "nbformat_minor": 2
}
