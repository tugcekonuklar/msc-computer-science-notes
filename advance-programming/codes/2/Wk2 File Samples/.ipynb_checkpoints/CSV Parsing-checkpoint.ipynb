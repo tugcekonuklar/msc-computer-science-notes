{
 "cells": [
  {
   "cell_type": "markdown",
   "metadata": {},
   "source": [
    "## reader()\n",
    "You will need to make sure that the code has access to teh file 'StudentActivities.csv'"
   ]
  },
  {
   "cell_type": "code",
   "execution_count": 1,
   "metadata": {},
   "outputs": [
    {
     "ename": "FileNotFoundError",
     "evalue": "[Errno 2] No such file or directory: 'StudentActivities.csv'",
     "output_type": "error",
     "traceback": [
      "\u001b[0;31m---------------------------------------------------------------------------\u001b[0m",
      "\u001b[0;31mFileNotFoundError\u001b[0m                         Traceback (most recent call last)",
      "\u001b[0;32m<ipython-input-1-15135684e655>\u001b[0m in \u001b[0;36m<module>\u001b[0;34m\u001b[0m\n\u001b[1;32m      1\u001b[0m \u001b[0;32mimport\u001b[0m \u001b[0mcsv\u001b[0m\u001b[0;34m\u001b[0m\u001b[0;34m\u001b[0m\u001b[0m\n\u001b[1;32m      2\u001b[0m \u001b[0;34m\u001b[0m\u001b[0m\n\u001b[0;32m----> 3\u001b[0;31m \u001b[0;32mwith\u001b[0m \u001b[0mopen\u001b[0m\u001b[0;34m(\u001b[0m\u001b[0;34m'StudentActivities.csv'\u001b[0m\u001b[0;34m,\u001b[0m \u001b[0mnewline\u001b[0m\u001b[0;34m=\u001b[0m\u001b[0;34m''\u001b[0m\u001b[0;34m)\u001b[0m \u001b[0;32mas\u001b[0m \u001b[0minFile\u001b[0m\u001b[0;34m:\u001b[0m\u001b[0;34m\u001b[0m\u001b[0;34m\u001b[0m\u001b[0m\n\u001b[0m\u001b[1;32m      4\u001b[0m     \u001b[0mdataReader\u001b[0m \u001b[0;34m=\u001b[0m \u001b[0mcsv\u001b[0m\u001b[0;34m.\u001b[0m\u001b[0mreader\u001b[0m\u001b[0;34m(\u001b[0m\u001b[0minFile\u001b[0m\u001b[0;34m)\u001b[0m\u001b[0;34m\u001b[0m\u001b[0;34m\u001b[0m\u001b[0m\n\u001b[1;32m      5\u001b[0m     \u001b[0;32mfor\u001b[0m \u001b[0mrow\u001b[0m \u001b[0;32min\u001b[0m \u001b[0mdataReader\u001b[0m\u001b[0;34m:\u001b[0m\u001b[0;34m\u001b[0m\u001b[0;34m\u001b[0m\u001b[0m\n",
      "\u001b[0;31mFileNotFoundError\u001b[0m: [Errno 2] No such file or directory: 'StudentActivities.csv'"
     ]
    }
   ],
   "source": [
    "import csv\n",
    "\n",
    "with open('StudentActivities.csv', newline='') as inFile:\n",
    "    dataReader = csv.reader(inFile)\n",
    "    for row in dataReader:\n",
    "        print(row, end='')"
   ]
  },
  {
   "cell_type": "code",
   "execution_count": null,
   "metadata": {},
   "outputs": [],
   "source": [
    "with open('StudentActivities.csv', newline='') as inFile:\n",
    "    dataReader = csv.reader(inFile)\n",
    "    for row in dataReader:\n",
    "        print(row[3], row[6])"
   ]
  },
  {
   "cell_type": "markdown",
   "metadata": {},
   "source": [
    "## DictReader()"
   ]
  },
  {
   "cell_type": "code",
   "execution_count": null,
   "metadata": {},
   "outputs": [],
   "source": [
    "with open('StudentActivities.csv', newline='') as inFile:\n",
    "    dataReader = csv.DictReader(inFile)\n",
    "    for line in dataReader:\n",
    "        print(line)"
   ]
  },
  {
   "cell_type": "code",
   "execution_count": null,
   "metadata": {},
   "outputs": [],
   "source": [
    "with open('StudentActivities.csv', newline='') as inFile:\n",
    "    dataReader = csv.DictReader(inFile)\n",
    "    for line in dataReader:\n",
    "        print(line.get('Course'), line.get('Gaming(h/w)'))"
   ]
  },
  {
   "cell_type": "code",
   "execution_count": null,
   "metadata": {},
   "outputs": [],
   "source": [
    "with open('StudentActivities.csv', newline='') as inFile:\n",
    "    dataReader = csv.DictReader(inFile)\n",
    "    for line in dataReader:\n",
    "        if int(line.get('ID')) == 14:\n",
    "            print(line.get('Gender'), line.get('Age'), line.get('Device'))"
   ]
  },
  {
   "cell_type": "markdown",
   "metadata": {},
   "source": [
    "## writer()"
   ]
  },
  {
   "cell_type": "code",
   "execution_count": null,
   "metadata": {},
   "outputs": [],
   "source": [
    "data = [['T1', 'T2','T3', 'T4','T5'],\n",
    "        [56,23,325,4234,2],\n",
    "        [3123,3654,85,342,745],\n",
    "        [234,234,234,242,11]]"
   ]
  },
  {
   "cell_type": "code",
   "execution_count": null,
   "metadata": {},
   "outputs": [],
   "source": [
    "with open('newData1.csv', 'w', newline='') as outFile:\n",
    "    dataWriter = csv.writer(outFile)\n",
    "    for x in data:\n",
    "        dataWriter.writerow(x)"
   ]
  },
  {
   "cell_type": "code",
   "execution_count": null,
   "metadata": {},
   "outputs": [],
   "source": [
    "with open('newData2.csv', 'w', newline='') as outFile:\n",
    "    dataWriter = csv.writer(outFile)\n",
    "    dataWriter.writerows(data)"
   ]
  },
  {
   "cell_type": "markdown",
   "metadata": {},
   "source": [
    "## DictWriter()"
   ]
  },
  {
   "cell_type": "code",
   "execution_count": null,
   "metadata": {},
   "outputs": [],
   "source": [
    "data = [{'T1':56, 'T2':23, 'T3':325, 'T4':4234, 'T5':2},\n",
    "        {'T1':3123, 'T2':3654, 'T3':85, 'T4':342, 'T5':745},\n",
    "        {'T1':234, 'T2':234, 'T3':234, 'T4':242, 'T5':11}]"
   ]
  },
  {
   "cell_type": "code",
   "execution_count": null,
   "metadata": {},
   "outputs": [],
   "source": [
    "with open('newData3.csv', 'w', newline='') as outFile:\n",
    "    dataWriter = csv.DictWriter(outFile,['T1', 'T2','T3', 'T4','T5'])\n",
    "    for x in data:\n",
    "        dataWriter.writerow(x)"
   ]
  },
  {
   "cell_type": "code",
   "execution_count": null,
   "metadata": {},
   "outputs": [],
   "source": [
    "with open('newData4.csv', 'w', newline='') as outFile:\n",
    "    dataWriter = csv.DictWriter(outFile,['T1', 'T2','T3', 'T4','T5'])\n",
    "    dataWriter.writeheader()\n",
    "    dataWriter.writerows(data)"
   ]
  }
 ],
 "metadata": {
  "kernelspec": {
   "display_name": "Python 3",
   "language": "python",
   "name": "python3"
  },
  "language_info": {
   "codemirror_mode": {
    "name": "ipython",
    "version": 3
   },
   "file_extension": ".py",
   "mimetype": "text/x-python",
   "name": "python",
   "nbconvert_exporter": "python",
   "pygments_lexer": "ipython3",
   "version": "3.7.3"
  }
 },
 "nbformat": 4,
 "nbformat_minor": 2
}
