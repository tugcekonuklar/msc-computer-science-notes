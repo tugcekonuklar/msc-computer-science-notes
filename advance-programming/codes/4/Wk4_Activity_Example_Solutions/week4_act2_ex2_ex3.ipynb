{
 "cells": [
  {
   "cell_type": "code",
   "execution_count": 1,
   "metadata": {},
   "outputs": [],
   "source": [
    "#******************EXERCISE 2**************************************\n",
    "import pandas as pd\n",
    "import numpy as np\n",
    "\n",
    "df=pd.read_csv('SalesData.csv',index_col=0)"
   ]
  },
  {
   "cell_type": "code",
   "execution_count": 2,
   "metadata": {},
   "outputs": [
    {
     "data": {
      "text/html": [
       "<div>\n",
       "<style scoped>\n",
       "    .dataframe tbody tr th:only-of-type {\n",
       "        vertical-align: middle;\n",
       "    }\n",
       "\n",
       "    .dataframe tbody tr th {\n",
       "        vertical-align: top;\n",
       "    }\n",
       "\n",
       "    .dataframe thead th {\n",
       "        text-align: right;\n",
       "    }\n",
       "</style>\n",
       "<table border=\"1\" class=\"dataframe\">\n",
       "  <thead>\n",
       "    <tr style=\"text-align: right;\">\n",
       "      <th></th>\n",
       "      <th>Apr-18</th>\n",
       "      <th>May-18</th>\n",
       "      <th>Jun-18</th>\n",
       "      <th>Jul-18</th>\n",
       "      <th>Aug-18</th>\n",
       "      <th>Sep-18</th>\n",
       "      <th>Oct-18</th>\n",
       "      <th>Nov-18</th>\n",
       "      <th>Dec-18</th>\n",
       "      <th>Jan-19</th>\n",
       "      <th>Feb-19</th>\n",
       "      <th>Mar-19</th>\n",
       "    </tr>\n",
       "  </thead>\n",
       "  <tbody>\n",
       "    <tr>\n",
       "      <th>L3</th>\n",
       "      <td>390</td>\n",
       "      <td>345</td>\n",
       "      <td>379</td>\n",
       "      <td>353</td>\n",
       "      <td>365</td>\n",
       "      <td>326</td>\n",
       "      <td>363</td>\n",
       "      <td>459</td>\n",
       "      <td>539</td>\n",
       "      <td>474</td>\n",
       "      <td>340</td>\n",
       "      <td>343</td>\n",
       "    </tr>\n",
       "    <tr>\n",
       "      <th>L1</th>\n",
       "      <td>392</td>\n",
       "      <td>377</td>\n",
       "      <td>347</td>\n",
       "      <td>395</td>\n",
       "      <td>330</td>\n",
       "      <td>332</td>\n",
       "      <td>340</td>\n",
       "      <td>446</td>\n",
       "      <td>573</td>\n",
       "      <td>464</td>\n",
       "      <td>223</td>\n",
       "      <td>216</td>\n",
       "    </tr>\n",
       "    <tr>\n",
       "      <th>P2</th>\n",
       "      <td>250</td>\n",
       "      <td>270</td>\n",
       "      <td>300</td>\n",
       "      <td>398</td>\n",
       "      <td>376</td>\n",
       "      <td>382</td>\n",
       "      <td>306</td>\n",
       "      <td>489</td>\n",
       "      <td>552</td>\n",
       "      <td>488</td>\n",
       "      <td>298</td>\n",
       "      <td>269</td>\n",
       "    </tr>\n",
       "    <tr>\n",
       "      <th>N6</th>\n",
       "      <td>460</td>\n",
       "      <td>480</td>\n",
       "      <td>450</td>\n",
       "      <td>310</td>\n",
       "      <td>392</td>\n",
       "      <td>383</td>\n",
       "      <td>314</td>\n",
       "      <td>402</td>\n",
       "      <td>640</td>\n",
       "      <td>495</td>\n",
       "      <td>215</td>\n",
       "      <td>243</td>\n",
       "    </tr>\n",
       "    <tr>\n",
       "      <th>N4</th>\n",
       "      <td>460</td>\n",
       "      <td>480</td>\n",
       "      <td>450</td>\n",
       "      <td>387</td>\n",
       "      <td>388</td>\n",
       "      <td>320</td>\n",
       "      <td>337</td>\n",
       "      <td>478</td>\n",
       "      <td>676</td>\n",
       "      <td>408</td>\n",
       "      <td>338</td>\n",
       "      <td>263</td>\n",
       "    </tr>\n",
       "    <tr>\n",
       "      <th>B8</th>\n",
       "      <td>470</td>\n",
       "      <td>510</td>\n",
       "      <td>360</td>\n",
       "      <td>472</td>\n",
       "      <td>423</td>\n",
       "      <td>385</td>\n",
       "      <td>353</td>\n",
       "      <td>464</td>\n",
       "      <td>598</td>\n",
       "      <td>419</td>\n",
       "      <td>459</td>\n",
       "      <td>659</td>\n",
       "    </tr>\n",
       "  </tbody>\n",
       "</table>\n",
       "</div>"
      ],
      "text/plain": [
       "    Apr-18  May-18  Jun-18  Jul-18  Aug-18  Sep-18  Oct-18  Nov-18  Dec-18  \\\n",
       "L3     390     345     379     353     365     326     363     459     539   \n",
       "L1     392     377     347     395     330     332     340     446     573   \n",
       "P2     250     270     300     398     376     382     306     489     552   \n",
       "N6     460     480     450     310     392     383     314     402     640   \n",
       "N4     460     480     450     387     388     320     337     478     676   \n",
       "B8     470     510     360     472     423     385     353     464     598   \n",
       "\n",
       "    Jan-19  Feb-19  Mar-19  \n",
       "L3     474     340     343  \n",
       "L1     464     223     216  \n",
       "P2     488     298     269  \n",
       "N6     495     215     243  \n",
       "N4     408     338     263  \n",
       "B8     419     459     659  "
      ]
     },
     "execution_count": 2,
     "metadata": {},
     "output_type": "execute_result"
    }
   ],
   "source": [
    "df"
   ]
  },
  {
   "cell_type": "code",
   "execution_count": 3,
   "metadata": {},
   "outputs": [
    {
     "name": "stdout",
     "output_type": "stream",
     "text": [
      "    Nov-18  Feb-19  Mar-19\n",
      "P2     489     298     269\n",
      "B8     464     459     659\n"
     ]
    }
   ],
   "source": [
    "#Question 1: What were the sales for P2 and B8 in Nov18, Feb19 and Mar19\n",
    "\n",
    "sale = df.loc[['P2','B8'],['Nov-18','Feb-19','Mar-19']]\n",
    "print(sale)"
   ]
  },
  {
   "cell_type": "code",
   "execution_count": 4,
   "metadata": {},
   "outputs": [
    {
     "name": "stdout",
     "output_type": "stream",
     "text": [
      "Total sales:\n",
      "    Oct-18  Nov-18  Dec-18\n",
      "L3     363     459     539\n",
      "L1     340     446     573\n",
      "\n",
      "% increase:\n",
      "    Oct-18    Nov-18    Dec-18\n",
      "L3     NaN  0.264463  0.174292\n",
      "L1     NaN  0.311765  0.284753\n"
     ]
    }
   ],
   "source": [
    "#Question 2: In the 3rd quarter (oct/18-dec/18) what were the sales figure for \n",
    "#london L3 and L1) and what was the monthly %increase\n",
    "\n",
    "#Sales figure\n",
    "totalsales = df.loc[['L3','L1'],['Oct-18','Nov-18','Dec-18']]\n",
    "\n",
    "print(\"Total sales:\")\n",
    "print(totalsales)\n",
    "\n",
    "print(\"\")\n",
    "#monthly % increase\n",
    "\n",
    "a= totalsales.pct_change(axis='columns')\n",
    "print(\"% increase:\")\n",
    "print(a)"
   ]
  },
  {
   "cell_type": "code",
   "execution_count": 5,
   "metadata": {},
   "outputs": [],
   "source": [
    "#QUESTION 3 What were the top 3 months for New York (N6 and N4) and in which \n",
    "#stores did they occur\n",
    "\n",
    "#Top three months for N6\n",
    "\n",
    "#first we print row N6 only\n",
    "hello=df.loc[['N6']].T"
   ]
  },
  {
   "cell_type": "code",
   "execution_count": 6,
   "metadata": {},
   "outputs": [
    {
     "name": "stdout",
     "output_type": "stream",
     "text": [
      "         N6\n",
      "Apr-18  460\n",
      "May-18  480\n",
      "Jun-18  450\n",
      "Jul-18  310\n",
      "Aug-18  392\n",
      "Sep-18  383\n",
      "Oct-18  314\n",
      "Nov-18  402\n",
      "Dec-18  640\n",
      "Jan-19  495\n",
      "Feb-19  215\n",
      "Mar-19  243\n"
     ]
    }
   ],
   "source": [
    "print(hello)"
   ]
  },
  {
   "cell_type": "code",
   "execution_count": 7,
   "metadata": {},
   "outputs": [
    {
     "name": "stdout",
     "output_type": "stream",
     "text": [
      "         N6\n",
      "Dec-18  640\n",
      "Jan-19  495\n",
      "May-18  480\n"
     ]
    }
   ],
   "source": [
    "#Q3 continues\n",
    "#top three months\n",
    "topthree=hello.nlargest(3,['N6'])\n",
    "#top=topthree.drop(['N4'],axis=1)\n",
    "print(topthree)"
   ]
  },
  {
   "cell_type": "code",
   "execution_count": 8,
   "metadata": {},
   "outputs": [],
   "source": [
    "#Q3 continues\n",
    "#Next, we print row N4 only\n",
    "hello=df.loc[['N4']].T"
   ]
  },
  {
   "cell_type": "code",
   "execution_count": 9,
   "metadata": {},
   "outputs": [
    {
     "name": "stdout",
     "output_type": "stream",
     "text": [
      "         N4\n",
      "Apr-18  460\n",
      "May-18  480\n",
      "Jun-18  450\n",
      "Jul-18  387\n",
      "Aug-18  388\n",
      "Sep-18  320\n",
      "Oct-18  337\n",
      "Nov-18  478\n",
      "Dec-18  676\n",
      "Jan-19  408\n",
      "Feb-19  338\n",
      "Mar-19  263\n"
     ]
    }
   ],
   "source": [
    "print(hello)"
   ]
  },
  {
   "cell_type": "code",
   "execution_count": 10,
   "metadata": {},
   "outputs": [
    {
     "name": "stdout",
     "output_type": "stream",
     "text": [
      "         N4\n",
      "Dec-18  676\n",
      "May-18  480\n",
      "Nov-18  478\n"
     ]
    }
   ],
   "source": [
    "#Q3 continues\n",
    "\n",
    "#top three months\n",
    "topthreeforN4=hello.nlargest(3,['N4'])\n",
    "#top=topthree.drop(['N4'],axis=1)\n",
    "print(topthreeforN4)"
   ]
  },
  {
   "cell_type": "code",
   "execution_count": 11,
   "metadata": {},
   "outputs": [
    {
     "name": "stdout",
     "output_type": "stream",
     "text": [
      "           N4     N6\n",
      "Dec-18  676.0  640.0\n",
      "May-18  480.0  480.0\n",
      "Nov-18  478.0    NaN\n",
      "Jan-19    NaN  495.0\n"
     ]
    }
   ],
   "source": [
    "#Q3 continues\n",
    "\n",
    "#NOW WE COMPARE BETWEEN THE TWO STORES TO FIND THE TOP THREE MONTHS\n",
    "\n",
    "#First,join the two stores with one table, then get the top three months\n",
    "\n",
    "#Join\n",
    "a=pd.concat([topthreeforN4,topthree],axis='columns',sort=False)\n",
    "\n",
    "print(a)"
   ]
  },
  {
   "cell_type": "code",
   "execution_count": 12,
   "metadata": {},
   "outputs": [
    {
     "name": "stdout",
     "output_type": "stream",
     "text": [
      "Dec-18  N4    676.0\n",
      "        N6    640.0\n",
      "Jan-19  N6    495.0\n",
      "dtype: float64\n"
     ]
    }
   ],
   "source": [
    "#Q3 continues\n",
    "#Finding the top three months and in relation to the store\n",
    "\n",
    "finalresult=a.stack().nlargest(3)\n",
    "print(finalresult)"
   ]
  },
  {
   "cell_type": "code",
   "execution_count": 13,
   "metadata": {},
   "outputs": [
    {
     "data": {
      "text/html": [
       "<div>\n",
       "<style scoped>\n",
       "    .dataframe tbody tr th:only-of-type {\n",
       "        vertical-align: middle;\n",
       "    }\n",
       "\n",
       "    .dataframe tbody tr th {\n",
       "        vertical-align: top;\n",
       "    }\n",
       "\n",
       "    .dataframe thead th {\n",
       "        text-align: right;\n",
       "    }\n",
       "</style>\n",
       "<table border=\"1\" class=\"dataframe\">\n",
       "  <thead>\n",
       "    <tr style=\"text-align: right;\">\n",
       "      <th></th>\n",
       "      <th>Apr-18</th>\n",
       "      <th>May-18</th>\n",
       "      <th>Jun-18</th>\n",
       "      <th>Jul-18</th>\n",
       "      <th>Aug-18</th>\n",
       "      <th>Sep-18</th>\n",
       "      <th>Oct-18</th>\n",
       "      <th>Nov-18</th>\n",
       "      <th>Dec-18</th>\n",
       "      <th>Jan-19</th>\n",
       "      <th>Feb-19</th>\n",
       "      <th>Mar-19</th>\n",
       "    </tr>\n",
       "  </thead>\n",
       "  <tbody>\n",
       "    <tr>\n",
       "      <th>L3</th>\n",
       "      <td>390</td>\n",
       "      <td>345</td>\n",
       "      <td>379</td>\n",
       "      <td>353</td>\n",
       "      <td>365</td>\n",
       "      <td>326</td>\n",
       "      <td>363</td>\n",
       "      <td>459</td>\n",
       "      <td>539</td>\n",
       "      <td>474</td>\n",
       "      <td>340</td>\n",
       "      <td>343</td>\n",
       "    </tr>\n",
       "    <tr>\n",
       "      <th>L1</th>\n",
       "      <td>392</td>\n",
       "      <td>377</td>\n",
       "      <td>347</td>\n",
       "      <td>395</td>\n",
       "      <td>330</td>\n",
       "      <td>332</td>\n",
       "      <td>340</td>\n",
       "      <td>446</td>\n",
       "      <td>573</td>\n",
       "      <td>464</td>\n",
       "      <td>223</td>\n",
       "      <td>216</td>\n",
       "    </tr>\n",
       "    <tr>\n",
       "      <th>P2</th>\n",
       "      <td>250</td>\n",
       "      <td>270</td>\n",
       "      <td>300</td>\n",
       "      <td>398</td>\n",
       "      <td>376</td>\n",
       "      <td>382</td>\n",
       "      <td>306</td>\n",
       "      <td>489</td>\n",
       "      <td>552</td>\n",
       "      <td>488</td>\n",
       "      <td>298</td>\n",
       "      <td>269</td>\n",
       "    </tr>\n",
       "    <tr>\n",
       "      <th>N6</th>\n",
       "      <td>460</td>\n",
       "      <td>480</td>\n",
       "      <td>450</td>\n",
       "      <td>310</td>\n",
       "      <td>392</td>\n",
       "      <td>383</td>\n",
       "      <td>314</td>\n",
       "      <td>402</td>\n",
       "      <td>640</td>\n",
       "      <td>495</td>\n",
       "      <td>215</td>\n",
       "      <td>243</td>\n",
       "    </tr>\n",
       "    <tr>\n",
       "      <th>N4</th>\n",
       "      <td>460</td>\n",
       "      <td>480</td>\n",
       "      <td>450</td>\n",
       "      <td>387</td>\n",
       "      <td>388</td>\n",
       "      <td>320</td>\n",
       "      <td>337</td>\n",
       "      <td>478</td>\n",
       "      <td>676</td>\n",
       "      <td>408</td>\n",
       "      <td>338</td>\n",
       "      <td>263</td>\n",
       "    </tr>\n",
       "    <tr>\n",
       "      <th>B8</th>\n",
       "      <td>470</td>\n",
       "      <td>510</td>\n",
       "      <td>360</td>\n",
       "      <td>472</td>\n",
       "      <td>423</td>\n",
       "      <td>385</td>\n",
       "      <td>353</td>\n",
       "      <td>464</td>\n",
       "      <td>598</td>\n",
       "      <td>419</td>\n",
       "      <td>459</td>\n",
       "      <td>659</td>\n",
       "    </tr>\n",
       "  </tbody>\n",
       "</table>\n",
       "</div>"
      ],
      "text/plain": [
       "    Apr-18  May-18  Jun-18  Jul-18  Aug-18  Sep-18  Oct-18  Nov-18  Dec-18  \\\n",
       "L3     390     345     379     353     365     326     363     459     539   \n",
       "L1     392     377     347     395     330     332     340     446     573   \n",
       "P2     250     270     300     398     376     382     306     489     552   \n",
       "N6     460     480     450     310     392     383     314     402     640   \n",
       "N4     460     480     450     387     388     320     337     478     676   \n",
       "B8     470     510     360     472     423     385     353     464     598   \n",
       "\n",
       "    Jan-19  Feb-19  Mar-19  \n",
       "L3     474     340     343  \n",
       "L1     464     223     216  \n",
       "P2     488     298     269  \n",
       "N6     495     215     243  \n",
       "N4     408     338     263  \n",
       "B8     419     459     659  "
      ]
     },
     "execution_count": 13,
     "metadata": {},
     "output_type": "execute_result"
    }
   ],
   "source": [
    "df"
   ]
  },
  {
   "cell_type": "code",
   "execution_count": 14,
   "metadata": {},
   "outputs": [],
   "source": [
    "#Q4\n",
    "\n",
    "#We first give a heading to the store called STORE\n",
    "\n",
    "heading=pd.DataFrame(df)\n",
    "heading.index.name='STORE'\n",
    "\n",
    "\n"
   ]
  },
  {
   "cell_type": "code",
   "execution_count": 15,
   "metadata": {},
   "outputs": [
    {
     "name": "stdout",
     "output_type": "stream",
     "text": [
      "       Apr-18  May-18  Jun-18  Jul-18  Aug-18  Sep-18  Oct-18  Nov-18  Dec-18  \\\n",
      "STORE                                                                           \n",
      "L3        390     345     379     353     365     326     363     459     539   \n",
      "L1        392     377     347     395     330     332     340     446     573   \n",
      "P2        250     270     300     398     376     382     306     489     552   \n",
      "N6        460     480     450     310     392     383     314     402     640   \n",
      "N4        460     480     450     387     388     320     337     478     676   \n",
      "B8        470     510     360     472     423     385     353     464     598   \n",
      "\n",
      "       Jan-19  Feb-19  Mar-19  \n",
      "STORE                          \n",
      "L3        474     340     343  \n",
      "L1        464     223     216  \n",
      "P2        488     298     269  \n",
      "N6        495     215     243  \n",
      "N4        408     338     263  \n",
      "B8        419     459     659  \n"
     ]
    }
   ],
   "source": [
    "print(heading)"
   ]
  },
  {
   "cell_type": "code",
   "execution_count": 16,
   "metadata": {},
   "outputs": [
    {
     "name": "stdout",
     "output_type": "stream",
     "text": [
      "STORE\n",
      "N6    215\n",
      "dtype: int64\n"
     ]
    }
   ],
   "source": [
    "#Q4 continues - finding the store\n",
    "\n",
    "lowestsalestore=df.min(axis=1).sort_values()[:1]\n",
    "print(lowestsalestore)"
   ]
  },
  {
   "cell_type": "code",
   "execution_count": 17,
   "metadata": {},
   "outputs": [
    {
     "name": "stdout",
     "output_type": "stream",
     "text": [
      "STORE\n",
      "N6    Feb-19\n",
      "dtype: object\n"
     ]
    }
   ],
   "source": [
    "#Q4 continues - finding the month\n",
    "month=df.loc[lowestsalestore.index.values].idxmin(axis=1)\n",
    "print(month)"
   ]
  },
  {
   "cell_type": "code",
   "execution_count": 18,
   "metadata": {
    "scrolled": true
   },
   "outputs": [
    {
     "data": {
      "text/html": [
       "<div>\n",
       "<style scoped>\n",
       "    .dataframe tbody tr th:only-of-type {\n",
       "        vertical-align: middle;\n",
       "    }\n",
       "\n",
       "    .dataframe tbody tr th {\n",
       "        vertical-align: top;\n",
       "    }\n",
       "\n",
       "    .dataframe thead th {\n",
       "        text-align: right;\n",
       "    }\n",
       "</style>\n",
       "<table border=\"1\" class=\"dataframe\">\n",
       "  <thead>\n",
       "    <tr style=\"text-align: right;\">\n",
       "      <th></th>\n",
       "      <th>Apr-18</th>\n",
       "      <th>May-18</th>\n",
       "      <th>Jun-18</th>\n",
       "      <th>Jul-18</th>\n",
       "      <th>Aug-18</th>\n",
       "      <th>Sep-18</th>\n",
       "      <th>Oct-18</th>\n",
       "      <th>Nov-18</th>\n",
       "      <th>Dec-18</th>\n",
       "      <th>Jan-19</th>\n",
       "      <th>Feb-19</th>\n",
       "      <th>Mar-19</th>\n",
       "    </tr>\n",
       "    <tr>\n",
       "      <th>STORE</th>\n",
       "      <th></th>\n",
       "      <th></th>\n",
       "      <th></th>\n",
       "      <th></th>\n",
       "      <th></th>\n",
       "      <th></th>\n",
       "      <th></th>\n",
       "      <th></th>\n",
       "      <th></th>\n",
       "      <th></th>\n",
       "      <th></th>\n",
       "      <th></th>\n",
       "    </tr>\n",
       "  </thead>\n",
       "  <tbody>\n",
       "    <tr>\n",
       "      <th>L3</th>\n",
       "      <td>390</td>\n",
       "      <td>345</td>\n",
       "      <td>379</td>\n",
       "      <td>353</td>\n",
       "      <td>365</td>\n",
       "      <td>326</td>\n",
       "      <td>363</td>\n",
       "      <td>459</td>\n",
       "      <td>539</td>\n",
       "      <td>474</td>\n",
       "      <td>340</td>\n",
       "      <td>343</td>\n",
       "    </tr>\n",
       "    <tr>\n",
       "      <th>L1</th>\n",
       "      <td>392</td>\n",
       "      <td>377</td>\n",
       "      <td>347</td>\n",
       "      <td>395</td>\n",
       "      <td>330</td>\n",
       "      <td>332</td>\n",
       "      <td>340</td>\n",
       "      <td>446</td>\n",
       "      <td>573</td>\n",
       "      <td>464</td>\n",
       "      <td>223</td>\n",
       "      <td>216</td>\n",
       "    </tr>\n",
       "    <tr>\n",
       "      <th>P2</th>\n",
       "      <td>250</td>\n",
       "      <td>270</td>\n",
       "      <td>300</td>\n",
       "      <td>398</td>\n",
       "      <td>376</td>\n",
       "      <td>382</td>\n",
       "      <td>306</td>\n",
       "      <td>489</td>\n",
       "      <td>552</td>\n",
       "      <td>488</td>\n",
       "      <td>298</td>\n",
       "      <td>269</td>\n",
       "    </tr>\n",
       "    <tr>\n",
       "      <th>N6</th>\n",
       "      <td>460</td>\n",
       "      <td>480</td>\n",
       "      <td>450</td>\n",
       "      <td>310</td>\n",
       "      <td>392</td>\n",
       "      <td>383</td>\n",
       "      <td>314</td>\n",
       "      <td>402</td>\n",
       "      <td>640</td>\n",
       "      <td>495</td>\n",
       "      <td>215</td>\n",
       "      <td>243</td>\n",
       "    </tr>\n",
       "    <tr>\n",
       "      <th>N4</th>\n",
       "      <td>460</td>\n",
       "      <td>480</td>\n",
       "      <td>450</td>\n",
       "      <td>387</td>\n",
       "      <td>388</td>\n",
       "      <td>320</td>\n",
       "      <td>337</td>\n",
       "      <td>478</td>\n",
       "      <td>676</td>\n",
       "      <td>408</td>\n",
       "      <td>338</td>\n",
       "      <td>263</td>\n",
       "    </tr>\n",
       "    <tr>\n",
       "      <th>B8</th>\n",
       "      <td>470</td>\n",
       "      <td>510</td>\n",
       "      <td>360</td>\n",
       "      <td>472</td>\n",
       "      <td>423</td>\n",
       "      <td>385</td>\n",
       "      <td>353</td>\n",
       "      <td>464</td>\n",
       "      <td>598</td>\n",
       "      <td>419</td>\n",
       "      <td>459</td>\n",
       "      <td>659</td>\n",
       "    </tr>\n",
       "  </tbody>\n",
       "</table>\n",
       "</div>"
      ],
      "text/plain": [
       "       Apr-18  May-18  Jun-18  Jul-18  Aug-18  Sep-18  Oct-18  Nov-18  Dec-18  \\\n",
       "STORE                                                                           \n",
       "L3        390     345     379     353     365     326     363     459     539   \n",
       "L1        392     377     347     395     330     332     340     446     573   \n",
       "P2        250     270     300     398     376     382     306     489     552   \n",
       "N6        460     480     450     310     392     383     314     402     640   \n",
       "N4        460     480     450     387     388     320     337     478     676   \n",
       "B8        470     510     360     472     423     385     353     464     598   \n",
       "\n",
       "       Jan-19  Feb-19  Mar-19  \n",
       "STORE                          \n",
       "L3        474     340     343  \n",
       "L1        464     223     216  \n",
       "P2        488     298     269  \n",
       "N6        495     215     243  \n",
       "N4        408     338     263  \n",
       "B8        419     459     659  "
      ]
     },
     "execution_count": 18,
     "metadata": {},
     "output_type": "execute_result"
    }
   ],
   "source": [
    "#************************EXRCISE 3************************************************\n",
    "#loading the file\n",
    "df"
   ]
  },
  {
   "cell_type": "code",
   "execution_count": 19,
   "metadata": {},
   "outputs": [],
   "source": [
    "#Calculate the mean\n",
    "average = df.mean(axis=\"columns\")"
   ]
  },
  {
   "cell_type": "code",
   "execution_count": 20,
   "metadata": {},
   "outputs": [
    {
     "name": "stdout",
     "output_type": "stream",
     "text": [
      "STORE\n",
      "L3    389.666667\n",
      "L1    369.583333\n",
      "P2    364.833333\n",
      "N6    398.666667\n",
      "N4    415.416667\n",
      "B8    464.333333\n",
      "dtype: float64\n"
     ]
    }
   ],
   "source": [
    "print(average)"
   ]
  },
  {
   "cell_type": "code",
   "execution_count": 21,
   "metadata": {},
   "outputs": [
    {
     "name": "stdout",
     "output_type": "stream",
     "text": [
      "          Apr-18     May-18     Jun-18     Jul-18     Aug-18     Sep-18  \\\n",
      "STORE                                                                     \n",
      "L3      0.085543 -11.462789  -2.737382  -9.409752  -6.330197 -16.338751   \n",
      "L1      6.065389   2.006764  -6.110485   6.877114 -10.710259 -10.169109   \n",
      "P2    -31.475560 -25.993604 -17.770672   9.090909   3.060758   4.705345   \n",
      "N6     15.384615  20.401338  12.876254 -22.240803  -1.672241  -3.929766   \n",
      "N4     10.732197  15.546640   8.324975  -6.840522  -6.599799 -22.968907   \n",
      "B8      1.220388   9.834889 -22.469490   1.651113  -8.901651 -17.085427   \n",
      "\n",
      "          Oct-18     Nov-18     Dec-18     Jan-19     Feb-19     Mar-19  \n",
      "STORE                                                                    \n",
      "L3     -6.843456  17.792985  38.323353  21.642429 -12.745937 -11.976048  \n",
      "L1     -8.004510  20.676437  55.039459  25.546787 -39.661781 -41.555806  \n",
      "P2    -16.126085  34.033805  51.301964  33.759708 -18.318867 -26.267702  \n",
      "N6    -21.237458   0.836120  60.535117  24.163880 -46.070234 -39.046823  \n",
      "N4    -18.876630  15.065196  62.728185  -1.785356 -18.635908 -36.690070  \n",
      "B8    -23.977028  -0.071788  28.786791  -9.763101  -1.148600  41.923905  \n"
     ]
    }
   ],
   "source": [
    "#calculating the % increase for each month on the stores average \n",
    "#for the year\n",
    "percinc = df.apply(lambda current:((current-average)/average*100))\n",
    "\n",
    "print(percinc)\n",
    "\n",
    "\n",
    "\n"
   ]
  },
  {
   "cell_type": "code",
   "execution_count": 22,
   "metadata": {},
   "outputs": [
    {
     "name": "stdout",
     "output_type": "stream",
     "text": [
      "STORE\n",
      "N6   -46.070234\n",
      "dtype: float64\n"
     ]
    }
   ],
   "source": [
    "#Question 1) Which store had the largest and smallest increase \n",
    "#and in which stores did they occur\n",
    "\n",
    "#smallest increase\n",
    "smallest = percinc.min(axis=\"columns\").sort_values()[:1]\n",
    "print(smallest)\n",
    "\n"
   ]
  },
  {
   "cell_type": "code",
   "execution_count": 23,
   "metadata": {},
   "outputs": [
    {
     "name": "stdout",
     "output_type": "stream",
     "text": [
      "STORE\n",
      "N6    Feb-19\n",
      "dtype: object\n"
     ]
    }
   ],
   "source": [
    "#Store and month for smallest increase\n",
    "smallest_month=percinc.loc[smallest.index.values].idxmin(axis=\"columns\").sort_values()[:1]\n",
    "print(smallest_month)"
   ]
  },
  {
   "cell_type": "code",
   "execution_count": null,
   "metadata": {},
   "outputs": [],
   "source": []
  },
  {
   "cell_type": "code",
   "execution_count": 24,
   "metadata": {},
   "outputs": [
    {
     "name": "stdout",
     "output_type": "stream",
     "text": [
      "STORE\n",
      "N4    62.728185\n",
      "dtype: float64\n"
     ]
    }
   ],
   "source": [
    "#largest increase\n",
    "largest = percinc.max(axis=\"columns\").sort_values()[-1:]\n",
    "print(largest)\n",
    "\n"
   ]
  },
  {
   "cell_type": "code",
   "execution_count": null,
   "metadata": {},
   "outputs": [],
   "source": []
  },
  {
   "cell_type": "code",
   "execution_count": 25,
   "metadata": {},
   "outputs": [
    {
     "name": "stdout",
     "output_type": "stream",
     "text": [
      "STORE\n",
      "N4    Dec-18\n",
      "dtype: object\n"
     ]
    }
   ],
   "source": [
    "#Store and month for smallest increase\n",
    "largest_month=percinc.loc[largest.index.values].idxmax(axis=\"columns\").sort_values()[:1]\n",
    "print(largest_month)"
   ]
  },
  {
   "cell_type": "code",
   "execution_count": 26,
   "metadata": {},
   "outputs": [
    {
     "data": {
      "text/html": [
       "<div>\n",
       "<style scoped>\n",
       "    .dataframe tbody tr th:only-of-type {\n",
       "        vertical-align: middle;\n",
       "    }\n",
       "\n",
       "    .dataframe tbody tr th {\n",
       "        vertical-align: top;\n",
       "    }\n",
       "\n",
       "    .dataframe thead th {\n",
       "        text-align: right;\n",
       "    }\n",
       "</style>\n",
       "<table border=\"1\" class=\"dataframe\">\n",
       "  <thead>\n",
       "    <tr style=\"text-align: right;\">\n",
       "      <th></th>\n",
       "      <th>Apr-18</th>\n",
       "      <th>May-18</th>\n",
       "      <th>Jun-18</th>\n",
       "      <th>Jul-18</th>\n",
       "      <th>Aug-18</th>\n",
       "      <th>Sep-18</th>\n",
       "      <th>Oct-18</th>\n",
       "      <th>Nov-18</th>\n",
       "      <th>Dec-18</th>\n",
       "      <th>Jan-19</th>\n",
       "      <th>Feb-19</th>\n",
       "      <th>Mar-19</th>\n",
       "    </tr>\n",
       "    <tr>\n",
       "      <th>STORE</th>\n",
       "      <th></th>\n",
       "      <th></th>\n",
       "      <th></th>\n",
       "      <th></th>\n",
       "      <th></th>\n",
       "      <th></th>\n",
       "      <th></th>\n",
       "      <th></th>\n",
       "      <th></th>\n",
       "      <th></th>\n",
       "      <th></th>\n",
       "      <th></th>\n",
       "    </tr>\n",
       "  </thead>\n",
       "  <tbody>\n",
       "    <tr>\n",
       "      <th>L3</th>\n",
       "      <td>0.085543</td>\n",
       "      <td>-11.462789</td>\n",
       "      <td>-2.737382</td>\n",
       "      <td>-9.409752</td>\n",
       "      <td>-6.330197</td>\n",
       "      <td>-16.338751</td>\n",
       "      <td>-6.843456</td>\n",
       "      <td>17.792985</td>\n",
       "      <td>38.323353</td>\n",
       "      <td>21.642429</td>\n",
       "      <td>-12.745937</td>\n",
       "      <td>-11.976048</td>\n",
       "    </tr>\n",
       "    <tr>\n",
       "      <th>L1</th>\n",
       "      <td>6.065389</td>\n",
       "      <td>2.006764</td>\n",
       "      <td>-6.110485</td>\n",
       "      <td>6.877114</td>\n",
       "      <td>-10.710259</td>\n",
       "      <td>-10.169109</td>\n",
       "      <td>-8.004510</td>\n",
       "      <td>20.676437</td>\n",
       "      <td>55.039459</td>\n",
       "      <td>25.546787</td>\n",
       "      <td>-39.661781</td>\n",
       "      <td>-41.555806</td>\n",
       "    </tr>\n",
       "    <tr>\n",
       "      <th>P2</th>\n",
       "      <td>-31.475560</td>\n",
       "      <td>-25.993604</td>\n",
       "      <td>-17.770672</td>\n",
       "      <td>9.090909</td>\n",
       "      <td>3.060758</td>\n",
       "      <td>4.705345</td>\n",
       "      <td>-16.126085</td>\n",
       "      <td>34.033805</td>\n",
       "      <td>51.301964</td>\n",
       "      <td>33.759708</td>\n",
       "      <td>-18.318867</td>\n",
       "      <td>-26.267702</td>\n",
       "    </tr>\n",
       "    <tr>\n",
       "      <th>N6</th>\n",
       "      <td>15.384615</td>\n",
       "      <td>20.401338</td>\n",
       "      <td>12.876254</td>\n",
       "      <td>-22.240803</td>\n",
       "      <td>-1.672241</td>\n",
       "      <td>-3.929766</td>\n",
       "      <td>-21.237458</td>\n",
       "      <td>0.836120</td>\n",
       "      <td>60.535117</td>\n",
       "      <td>24.163880</td>\n",
       "      <td>-46.070234</td>\n",
       "      <td>-39.046823</td>\n",
       "    </tr>\n",
       "    <tr>\n",
       "      <th>N4</th>\n",
       "      <td>10.732197</td>\n",
       "      <td>15.546640</td>\n",
       "      <td>8.324975</td>\n",
       "      <td>-6.840522</td>\n",
       "      <td>-6.599799</td>\n",
       "      <td>-22.968907</td>\n",
       "      <td>-18.876630</td>\n",
       "      <td>15.065196</td>\n",
       "      <td>62.728185</td>\n",
       "      <td>-1.785356</td>\n",
       "      <td>-18.635908</td>\n",
       "      <td>-36.690070</td>\n",
       "    </tr>\n",
       "    <tr>\n",
       "      <th>B8</th>\n",
       "      <td>1.220388</td>\n",
       "      <td>9.834889</td>\n",
       "      <td>-22.469490</td>\n",
       "      <td>1.651113</td>\n",
       "      <td>-8.901651</td>\n",
       "      <td>-17.085427</td>\n",
       "      <td>-23.977028</td>\n",
       "      <td>-0.071788</td>\n",
       "      <td>28.786791</td>\n",
       "      <td>-9.763101</td>\n",
       "      <td>-1.148600</td>\n",
       "      <td>41.923905</td>\n",
       "    </tr>\n",
       "  </tbody>\n",
       "</table>\n",
       "</div>"
      ],
      "text/plain": [
       "          Apr-18     May-18     Jun-18     Jul-18     Aug-18     Sep-18  \\\n",
       "STORE                                                                     \n",
       "L3      0.085543 -11.462789  -2.737382  -9.409752  -6.330197 -16.338751   \n",
       "L1      6.065389   2.006764  -6.110485   6.877114 -10.710259 -10.169109   \n",
       "P2    -31.475560 -25.993604 -17.770672   9.090909   3.060758   4.705345   \n",
       "N6     15.384615  20.401338  12.876254 -22.240803  -1.672241  -3.929766   \n",
       "N4     10.732197  15.546640   8.324975  -6.840522  -6.599799 -22.968907   \n",
       "B8      1.220388   9.834889 -22.469490   1.651113  -8.901651 -17.085427   \n",
       "\n",
       "          Oct-18     Nov-18     Dec-18     Jan-19     Feb-19     Mar-19  \n",
       "STORE                                                                    \n",
       "L3     -6.843456  17.792985  38.323353  21.642429 -12.745937 -11.976048  \n",
       "L1     -8.004510  20.676437  55.039459  25.546787 -39.661781 -41.555806  \n",
       "P2    -16.126085  34.033805  51.301964  33.759708 -18.318867 -26.267702  \n",
       "N6    -21.237458   0.836120  60.535117  24.163880 -46.070234 -39.046823  \n",
       "N4    -18.876630  15.065196  62.728185  -1.785356 -18.635908 -36.690070  \n",
       "B8    -23.977028  -0.071788  28.786791  -9.763101  -1.148600  41.923905  "
      ]
     },
     "execution_count": 26,
     "metadata": {},
     "output_type": "execute_result"
    }
   ],
   "source": [
    "#Question 2) Across all the stores which months showed the smallest\n",
    "#average increase and largest average increase\n",
    "\n",
    "#smallest and highest average increase\n",
    "percinc"
   ]
  },
  {
   "cell_type": "code",
   "execution_count": 27,
   "metadata": {},
   "outputs": [
    {
     "name": "stdout",
     "output_type": "stream",
     "text": [
      "Across all stores,month with largest average increase\n",
      "STORE\n",
      "L3    Dec-18\n",
      "L1    Dec-18\n",
      "P2    Dec-18\n",
      "N6    Dec-18\n",
      "N4    Dec-18\n",
      "B8    Mar-19\n",
      "dtype: object\n"
     ]
    }
   ],
   "source": [
    "a = percinc.idxmax(axis=\"columns\")\n",
    "print(\"Across all stores,month with largest average increase\")\n",
    "print(a)\n"
   ]
  },
  {
   "cell_type": "code",
   "execution_count": 28,
   "metadata": {},
   "outputs": [],
   "source": [
    "#if we want to know the value that corresponds to that increase\n",
    "b=percinc.max(axis=1)"
   ]
  },
  {
   "cell_type": "code",
   "execution_count": 29,
   "metadata": {},
   "outputs": [
    {
     "name": "stdout",
     "output_type": "stream",
     "text": [
      "STORE\n",
      "L3    38.323353\n",
      "L1    55.039459\n",
      "P2    51.301964\n",
      "N6    60.535117\n",
      "N4    62.728185\n",
      "B8    41.923905\n",
      "dtype: float64\n"
     ]
    }
   ],
   "source": [
    "print(b)"
   ]
  },
  {
   "cell_type": "code",
   "execution_count": 30,
   "metadata": {},
   "outputs": [
    {
     "name": "stdout",
     "output_type": "stream",
     "text": [
      "Across all stores,month with smallest average increase\n",
      "STORE\n",
      "L3    Sep-18\n",
      "L1    Mar-19\n",
      "P2    Apr-18\n",
      "N6    Feb-19\n",
      "N4    Mar-19\n",
      "B8    Oct-18\n",
      "dtype: object\n"
     ]
    }
   ],
   "source": [
    "c = percinc.idxmin(axis=\"columns\")\n",
    "print(\"Across all stores,month with smallest average increase\")\n",
    "print(c)\n"
   ]
  },
  {
   "cell_type": "code",
   "execution_count": 31,
   "metadata": {},
   "outputs": [],
   "source": [
    "#if we want to know the value that corresponds to that decrease\n",
    "d=percinc.min(axis=\"columns\")"
   ]
  },
  {
   "cell_type": "code",
   "execution_count": 32,
   "metadata": {},
   "outputs": [
    {
     "name": "stdout",
     "output_type": "stream",
     "text": [
      "STORE\n",
      "L3   -16.338751\n",
      "L1   -41.555806\n",
      "P2   -31.475560\n",
      "N6   -46.070234\n",
      "N4   -36.690070\n",
      "B8   -23.977028\n",
      "dtype: float64\n"
     ]
    }
   ],
   "source": [
    "print(d)"
   ]
  },
  {
   "cell_type": "code",
   "execution_count": null,
   "metadata": {},
   "outputs": [],
   "source": []
  }
 ],
 "metadata": {
  "kernelspec": {
   "display_name": "Python 3",
   "language": "python",
   "name": "python3"
  },
  "language_info": {
   "codemirror_mode": {
    "name": "ipython",
    "version": 3
   },
   "file_extension": ".py",
   "mimetype": "text/x-python",
   "name": "python",
   "nbconvert_exporter": "python",
   "pygments_lexer": "ipython3",
   "version": "3.7.3"
  }
 },
 "nbformat": 4,
 "nbformat_minor": 2
}
