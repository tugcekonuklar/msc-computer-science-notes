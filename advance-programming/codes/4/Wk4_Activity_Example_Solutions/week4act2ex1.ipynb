{
 "cells": [
  {
   "cell_type": "code",
   "execution_count": 4,
   "metadata": {},
   "outputs": [],
   "source": [
    "#Converting from list to Panda's Series and Data Frame\n",
    "import pandas as pd"
   ]
  },
  {
   "cell_type": "code",
   "execution_count": 5,
   "metadata": {},
   "outputs": [
    {
     "name": "stdout",
     "output_type": "stream",
     "text": [
      "['elephant', 'panda', 'mouse', 'penguin']\n"
     ]
    }
   ],
   "source": [
    "#list\n",
    "animals =(['elephant','panda','mouse','penguin'])\n",
    "print(animals)"
   ]
  },
  {
   "cell_type": "code",
   "execution_count": 21,
   "metadata": {},
   "outputs": [
    {
     "name": "stdout",
     "output_type": "stream",
     "text": [
      "0    elephant\n",
      "1       panda\n",
      "2       mouse\n",
      "3     penguin\n",
      "dtype: object\n"
     ]
    }
   ],
   "source": [
    "#Panda's series using pd.Series\n",
    "\n",
    "animals_series = pd.Series(animals)\n",
    "print(animals_series)"
   ]
  },
  {
   "cell_type": "code",
   "execution_count": 9,
   "metadata": {},
   "outputs": [
    {
     "name": "stdout",
     "output_type": "stream",
     "text": [
      "          0\n",
      "0  elephant\n",
      "1     panda\n",
      "2     mouse\n",
      "3   penguin\n"
     ]
    }
   ],
   "source": [
    "#Panda's data frame using pd.DataFrame\n",
    "\n",
    "animalsdataframe = pd.DataFrame(animals)\n",
    "print(animalsdataframe)"
   ]
  },
  {
   "cell_type": "code",
   "execution_count": 10,
   "metadata": {},
   "outputs": [],
   "source": [
    "#Matrix"
   ]
  },
  {
   "cell_type": "code",
   "execution_count": 12,
   "metadata": {},
   "outputs": [
    {
     "name": "stdout",
     "output_type": "stream",
     "text": [
      "[['1A', '2A', '3A', '4A'], ['1B', '2B', '3B', '4B', '5B'], ['1C', '2C', '3C']]\n"
     ]
    }
   ],
   "source": [
    "matrix = [[\"1A\",\"2A\",\"3A\",\"4A\"],[\"1B\",\"2B\",\"3B\",\"4B\",\"5B\"],\n",
    "          [\"1C\",\"2C\",\"3C\"]]\n",
    "print(matrix)                                        "
   ]
  },
  {
   "cell_type": "code",
   "execution_count": 14,
   "metadata": {},
   "outputs": [
    {
     "name": "stdout",
     "output_type": "stream",
     "text": [
      "0        [1A, 2A, 3A, 4A]\n",
      "1    [1B, 2B, 3B, 4B, 5B]\n",
      "2            [1C, 2C, 3C]\n",
      "dtype: object\n"
     ]
    }
   ],
   "source": [
    "#Panda's series using pd.Series\n",
    "\n",
    "matrixseries = pd.Series(matrix)\n",
    "print(matrixseries)\n"
   ]
  },
  {
   "cell_type": "code",
   "execution_count": 15,
   "metadata": {},
   "outputs": [
    {
     "name": "stdout",
     "output_type": "stream",
     "text": [
      "    0   1   2     3     4\n",
      "0  1A  2A  3A    4A  None\n",
      "1  1B  2B  3B    4B    5B\n",
      "2  1C  2C  3C  None  None\n"
     ]
    }
   ],
   "source": [
    "#Panda's data frame using pd.DataFrame\n",
    "\n",
    "matrixdataframe = pd.DataFrame(matrix)\n",
    "print(matrixdataframe)\n"
   ]
  },
  {
   "cell_type": "code",
   "execution_count": 16,
   "metadata": {},
   "outputs": [],
   "source": [
    "#Tuple"
   ]
  },
  {
   "cell_type": "code",
   "execution_count": 22,
   "metadata": {},
   "outputs": [
    {
     "name": "stdout",
     "output_type": "stream",
     "text": [
      "('Apples', 'Oranges', 'Bananas')\n"
     ]
    }
   ],
   "source": [
    "fruits =(\"Apples\",\"Oranges\",\"Bananas\")\n",
    "print(fruits)"
   ]
  },
  {
   "cell_type": "code",
   "execution_count": 23,
   "metadata": {},
   "outputs": [
    {
     "name": "stdout",
     "output_type": "stream",
     "text": [
      "0     Apples\n",
      "1    Oranges\n",
      "2    Bananas\n",
      "dtype: object\n"
     ]
    }
   ],
   "source": [
    "#Panda's series using pd.Series\n",
    "\n",
    "fruits_series = pd.Series(fruits)\n",
    "print(fruits_series)\n"
   ]
  },
  {
   "cell_type": "code",
   "execution_count": 24,
   "metadata": {},
   "outputs": [
    {
     "name": "stdout",
     "output_type": "stream",
     "text": [
      "         0\n",
      "0   Apples\n",
      "1  Oranges\n",
      "2  Bananas\n"
     ]
    }
   ],
   "source": [
    "#Panda's data frame using pd.DataFrame\n",
    "\n",
    "fruits_dataframe = pd.DataFrame(fruits)\n",
    "print(fruits_dataframe)\n"
   ]
  },
  {
   "cell_type": "code",
   "execution_count": 20,
   "metadata": {},
   "outputs": [],
   "source": [
    "#Set"
   ]
  },
  {
   "cell_type": "code",
   "execution_count": 26,
   "metadata": {},
   "outputs": [
    {
     "name": "stdout",
     "output_type": "stream",
     "text": [
      "{'even': [2, 4, 6, 8, 10], 'odd': [1, 3, 5, 7, 9], 'bythree': [3, 6, 9, 12, 15]}\n"
     ]
    }
   ],
   "source": [
    "sets = ({'even':[2,4,6,8,10],'odd':[1,3,5,7,9],'bythree':[3,6,9,12,15]})\n",
    "print(sets)"
   ]
  },
  {
   "cell_type": "code",
   "execution_count": 27,
   "metadata": {},
   "outputs": [
    {
     "name": "stdout",
     "output_type": "stream",
     "text": [
      "even        [2, 4, 6, 8, 10]\n",
      "odd          [1, 3, 5, 7, 9]\n",
      "bythree    [3, 6, 9, 12, 15]\n",
      "dtype: object\n"
     ]
    }
   ],
   "source": [
    "#Pandas series using pd.Series\n",
    "\n",
    "sets_series = pd.Series(sets)\n",
    "print(sets_series)"
   ]
  },
  {
   "cell_type": "code",
   "execution_count": 28,
   "metadata": {},
   "outputs": [
    {
     "name": "stdout",
     "output_type": "stream",
     "text": [
      "   even  odd  bythree\n",
      "0     2    1        3\n",
      "1     4    3        6\n",
      "2     6    5        9\n",
      "3     8    7       12\n",
      "4    10    9       15\n"
     ]
    }
   ],
   "source": [
    "#Pandas data frame using pd.DataFrame\n",
    "\n",
    "sets_dataframe = pd.DataFrame(sets)\n",
    "print(sets_dataframe)"
   ]
  },
  {
   "cell_type": "code",
   "execution_count": 29,
   "metadata": {},
   "outputs": [],
   "source": [
    "#Dictionary"
   ]
  },
  {
   "cell_type": "code",
   "execution_count": 31,
   "metadata": {},
   "outputs": [
    {
     "name": "stdout",
     "output_type": "stream",
     "text": [
      "{'AC': 'Alison', 'S': 'Frank', 'CS': 'James'}\n"
     ]
    }
   ],
   "source": [
    "depthead ={'AC':'Alison','S':'Frank','CS':'James'}\n",
    "print(depthead)"
   ]
  },
  {
   "cell_type": "code",
   "execution_count": 32,
   "metadata": {},
   "outputs": [
    {
     "name": "stdout",
     "output_type": "stream",
     "text": [
      "AC    Alison\n",
      "S      Frank\n",
      "CS     James\n",
      "dtype: object\n"
     ]
    }
   ],
   "source": [
    "#Pandas series using pd.Series\n",
    "depthead_series = pd.Series(depthead)\n",
    "print(depthead_series)"
   ]
  },
  {
   "cell_type": "code",
   "execution_count": 36,
   "metadata": {},
   "outputs": [
    {
     "name": "stdout",
     "output_type": "stream",
     "text": [
      "       AC      S     CS\n",
      "1  Alison  Frank  James\n"
     ]
    }
   ],
   "source": [
    "#Pandas data frame using pd.DataFrame\n",
    "depthead_dataframe = pd.DataFrame((depthead),index=[1])\n",
    "print(depthead_dataframe)"
   ]
  },
  {
   "cell_type": "code",
   "execution_count": null,
   "metadata": {},
   "outputs": [],
   "source": []
  }
 ],
 "metadata": {
  "kernelspec": {
   "display_name": "Python 3",
   "language": "python",
   "name": "python3"
  },
  "language_info": {
   "codemirror_mode": {
    "name": "ipython",
    "version": 3
   },
   "file_extension": ".py",
   "mimetype": "text/x-python",
   "name": "python",
   "nbconvert_exporter": "python",
   "pygments_lexer": "ipython3",
   "version": "3.7.3"
  }
 },
 "nbformat": 4,
 "nbformat_minor": 2
}
