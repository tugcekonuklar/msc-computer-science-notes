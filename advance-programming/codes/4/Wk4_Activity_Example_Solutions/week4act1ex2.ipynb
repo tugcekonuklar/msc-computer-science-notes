{
 "cells": [
  {
   "cell_type": "code",
   "execution_count": 25,
   "metadata": {},
   "outputs": [
    {
     "name": "stdout",
     "output_type": "stream",
     "text": [
      "[[ 68.  54.  95.  65.  68.   6.  50.  63.  99.  81.  14.]\n",
      " [  5.  85.  83.  22.  39.  26.  73.  77.  97.  75.  33.]\n",
      " [  1.  46.  39.  53.  67.  19.  87.   3.  84.  58.  26.]\n",
      " [ 83.  81.  31.  96.  13.   3.  58.  32. 100. 100.  96.]\n",
      " [ 71.   2.  63.  84.  85.   5.  67.  35.  76.  77.  76.]\n",
      " [ 79.  67.  44. 100.  89.  71.  27.  46.  45.  13.  32.]\n",
      " [100.  27.  23.  76.  53.  86.   2.  59.  30.  52.   2.]\n",
      " [ 37.  43.  10.  16.  77.  40.  62.   4.  22.  64.  15.]\n",
      " [ 97.  61.   8.  99.  67.  42.  59.   7.  86.  42.  21.]\n",
      " [ 80.  93.  76.  46.  46.  35.  57.  70.  93.  36.  86.]\n",
      " [ 25.  23.  89.  58.  89.  52.  21.  65.  52.  25.  45.]]\n"
     ]
    }
   ],
   "source": [
    "import numpy as np\n",
    "#to open and read the file\n",
    "file=np.loadtxt(\"RandomeValues.csv\",delimiter=',')\n",
    "print(file)"
   ]
  },
  {
   "cell_type": "code",
   "execution_count": 26,
   "metadata": {},
   "outputs": [],
   "source": [
    "#Retreive rows 5,7,9\n",
    "rows=np.array([file[5],file[7],file[9]])"
   ]
  },
  {
   "cell_type": "code",
   "execution_count": 27,
   "metadata": {},
   "outputs": [
    {
     "name": "stdout",
     "output_type": "stream",
     "text": [
      "[[ 79.  67.  44. 100.  89.  71.  27.  46.  45.  13.  32.]\n",
      " [ 37.  43.  10.  16.  77.  40.  62.   4.  22.  64.  15.]\n",
      " [ 80.  93.  76.  46.  46.  35.  57.  70.  93.  36.  86.]]\n"
     ]
    }
   ],
   "source": [
    "print(rows)"
   ]
  },
  {
   "cell_type": "code",
   "execution_count": 28,
   "metadata": {},
   "outputs": [],
   "source": [
    "#Reteive columns 0,7,11\n",
    "columns=np.array([file[:,0],file[:,7],file[:,10]])"
   ]
  },
  {
   "cell_type": "code",
   "execution_count": 29,
   "metadata": {},
   "outputs": [
    {
     "name": "stdout",
     "output_type": "stream",
     "text": [
      "[[ 68.   5.   1.  83.  71.  79. 100.  37.  97.  80.  25.]\n",
      " [ 63.  77.   3.  32.  35.  46.  59.   4.   7.  70.  65.]\n",
      " [ 14.  33.  26.  96.  76.  32.   2.  15.  21.  86.  45.]]\n"
     ]
    }
   ],
   "source": [
    "print(columns)"
   ]
  },
  {
   "cell_type": "code",
   "execution_count": 32,
   "metadata": {},
   "outputs": [],
   "source": [
    "#Retreiving rows and columns simultaneously\n",
    "coll=np.array([file[:,[1,2,7,8,9]]])"
   ]
  },
  {
   "cell_type": "code",
   "execution_count": 33,
   "metadata": {},
   "outputs": [
    {
     "name": "stdout",
     "output_type": "stream",
     "text": [
      "[[[ 54.  95.  63.  99.  81.]\n",
      "  [ 85.  83.  77.  97.  75.]\n",
      "  [ 46.  39.   3.  84.  58.]\n",
      "  [ 81.  31.  32. 100. 100.]\n",
      "  [  2.  63.  35.  76.  77.]\n",
      "  [ 67.  44.  46.  45.  13.]\n",
      "  [ 27.  23.  59.  30.  52.]\n",
      "  [ 43.  10.   4.  22.  64.]\n",
      "  [ 61.   8.   7.  86.  42.]\n",
      "  [ 93.  76.  70.  93.  36.]\n",
      "  [ 23.  89.  65.  52.  25.]]]\n"
     ]
    }
   ],
   "source": [
    "print(coll)"
   ]
  },
  {
   "cell_type": "code",
   "execution_count": null,
   "metadata": {},
   "outputs": [],
   "source": []
  }
 ],
 "metadata": {
  "kernelspec": {
   "display_name": "Python 3",
   "language": "python",
   "name": "python3"
  },
  "language_info": {
   "codemirror_mode": {
    "name": "ipython",
    "version": 3
   },
   "file_extension": ".py",
   "mimetype": "text/x-python",
   "name": "python",
   "nbconvert_exporter": "python",
   "pygments_lexer": "ipython3",
   "version": "3.7.3"
  }
 },
 "nbformat": 4,
 "nbformat_minor": 2
}
