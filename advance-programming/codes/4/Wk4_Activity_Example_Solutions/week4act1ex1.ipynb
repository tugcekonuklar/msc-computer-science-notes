{
 "cells": [
  {
   "cell_type": "code",
   "execution_count": 28,
   "metadata": {},
   "outputs": [
    {
     "name": "stdout",
     "output_type": "stream",
     "text": [
      "2d 10000 random numbers: [[0.35234209 0.29706861 0.42917751 ... 0.05474508 0.68922872 0.12579771]\n",
      " [0.61107532 0.53301756 0.77995915 ... 0.27600095 0.02487196 0.86963341]\n",
      " [0.63438724 0.62590827 0.28763581 ... 0.97574066 0.93983881 0.32781442]\n",
      " ...\n",
      " [0.84138593 0.39292088 0.6533694  ... 0.72071622 0.66806564 0.62078882]\n",
      " [0.5652913  0.13714977 0.23692861 ... 0.15598134 0.30710583 0.97612002]\n",
      " [0.36750582 0.23753517 0.43402872 ... 0.03102334 0.09468639 0.61868302]]\n",
      "\n",
      "sqroot is [[0.5935841  0.54504001 0.65511641 ... 0.23397667 0.830198   0.35467973]\n",
      " [0.78171307 0.73008052 0.88315296 ... 0.52535792 0.15770847 0.93254137]\n",
      " [0.7964843  0.79114365 0.5363169  ... 0.98779586 0.96945284 0.5725508 ]\n",
      " ...\n",
      " [0.91727091 0.62683401 0.80831269 ... 0.84895007 0.81735283 0.78790153]\n",
      " [0.75185856 0.37033737 0.48675313 ... 0.39494473 0.5541713  0.98798786]\n",
      " [0.60622258 0.4873758  0.65880856 ... 0.17613443 0.30771154 0.78656406]]\n",
      "\n",
      "total is 6673.322575547909\n"
     ]
    }
   ],
   "source": [
    "#ACTIVITY 1 EX1\n",
    "\n",
    "#A small Numpy array to generate 10000 random numbers in a 2D array\n",
    "import numpy as np\n",
    "r=np.random.random((100,100))\n",
    "print(\"2D 10,000 random numbers:\",r)\n",
    "#Note 100 * 100 will give us 10,000 numbers\n",
    "\n",
    "print(\"\")\n",
    "\n",
    "#For each, calculate the square root\n",
    "sqroot=np.sqrt(r)\n",
    "print(\"sqroot is\",sqroot)\n",
    "\n",
    "print(\"\")\n",
    "\n",
    "#Sum all these calculations\n",
    "total = np.sum(sqroot)\n",
    "print(\"total is\",total)\n"
   ]
  },
  {
   "cell_type": "code",
   "execution_count": null,
   "metadata": {},
   "outputs": [],
   "source": []
  }
 ],
 "metadata": {
  "kernelspec": {
   "display_name": "Python 3",
   "language": "python",
   "name": "python3"
  },
  "language_info": {
   "codemirror_mode": {
    "name": "ipython",
    "version": 3
   },
   "file_extension": ".py",
   "mimetype": "text/x-python",
   "name": "python",
   "nbconvert_exporter": "python",
   "pygments_lexer": "ipython3",
   "version": "3.7.3"
  }
 },
 "nbformat": 4,
 "nbformat_minor": 2
}
