{
 "cells": [
  {
   "cell_type": "markdown",
   "metadata": {
    "colab_type": "text",
    "id": "UprK34WOvzN1"
   },
   "source": [
    "# Section A: if ... else\n",
    "This section gives examples of how variables are used in python.\n",
    "* First run each cell to see what it does.\n",
    "* Then change the values of the variables AND condiotn statments to test what happens.\n",
    "\n",
    "Remember each cell needs to be run in order to ensure that variables are initialised. If you get an error try rerunning the previous cells in each section."
   ]
  },
  {
   "cell_type": "code",
   "execution_count": null,
   "metadata": {
    "colab": {},
    "colab_type": "code",
    "id": "YtROZ0Z-yCmM"
   },
   "outputs": [],
   "source": [
    "#1. This code tests for a new world record\n",
    "\n",
    "#2. Snake size in meters\n",
    "snake_size = 6\n",
    "\n",
    "#3. Current world record length for a snake is 7.67m.\n",
    "#   Notice there is no requirement for parenthesis around the condition.\n",
    "if snake_size > 7.67:\n",
    "    print(\"That's a reticulated python and a new world record\")\n",
    "\n",
    "#4. Adding white space to define a code block is essential to attaching\n",
    "#   the print statement to the condition. In this case two spaces have been used.\n",
    "\n",
    "if snake_size <= 7.67:\n",
    "    print(\"That's not a new world record\")\n",
    "\n",
    "# TASK: Change the value of the snake_size variable to alternate between\n",
    "# the different outputs"
   ]
  },
  {
   "cell_type": "code",
   "execution_count": null,
   "metadata": {
    "colab": {},
    "colab_type": "code",
    "id": "llkWk3Yu2RWC"
   },
   "outputs": [],
   "source": [
    "#5. A better way to write a test for a new world record\n",
    "#   is, if this .. else that .. \n",
    "#   In the previous version both if conditions will always be evaluated.\n",
    "#   here the else will only be evaluated if the if condition fails\n",
    "snake_size = 6\n",
    "\n",
    "if snake_size > 7.67:\n",
    "    print(\"That's a reticulated python and a new world record\")\n",
    "else:\n",
    "    print(\"That's not a new world record\")\n",
    "\n",
    "# TASK: Again change the value of the snake_size variable"
   ]
  },
  {
   "cell_type": "markdown",
   "metadata": {
    "colab_type": "text",
    "id": "3YxN_a0ewXrn"
   },
   "source": [
    "# Section B: if ... elif ... else"
   ]
  },
  {
   "cell_type": "code",
   "execution_count": null,
   "metadata": {
    "colab": {},
    "colab_type": "code",
    "id": "Ae3Q0zuD9SrA"
   },
   "outputs": [],
   "source": [
    "#6. This program tests which random number is bigger.\n",
    "\n",
    "#7. Importing an external package\n",
    "from random import *\n",
    "\n",
    "#8. A function to generates a random number between 1 and 100\n",
    "num1 = randint(1,100)\n",
    "num2 = randint(1,100)\n",
    "\n",
    "\n",
    "if num1 > num2:\n",
    "    print(f\"{num1} is larger than {num2}.\")\n",
    "#9. Notice the spelling here\n",
    "elif num2 > num1:\n",
    "    print(f\"{num2} is larger than {num1}.\")\n",
    "else:\n",
    "    print(f\"{num1} and {num2} are the same.\")\n",
    "\n",
    "# TASK: Adapt this code to test between three random variables"
   ]
  },
  {
   "cell_type": "markdown",
   "metadata": {
    "colab_type": "text",
    "id": "Lscs7wJewoe2"
   },
   "source": [
    "# Section C: Example Solution\n",
    "Discounted ticket problem: \n",
    "\n",
    "Using the following information devise a program to calculate the cost of a ticket given the age of the traveller and the number of people traveling. \n",
    "\n",
    "Travellers aged over 65 or 4 years and under get a 20% discount, except where 2 or less people are travel together, where they only get a 15% discount. Travelers aged under 18 and traveling in a group of 4 or more people you will get 10% off the price of their ticket. Everyone else is charged a flat rate of £20.67"
   ]
  },
  {
   "cell_type": "code",
   "execution_count": null,
   "metadata": {
    "colab": {},
    "colab_type": "code",
    "id": "ufSztDzYB626"
   },
   "outputs": [],
   "source": [
    "ticket_price = 20.67\n",
    "age = 66\n",
    "group = 2\n",
    "\n",
    "#10. Outer if condition\n",
    "#    Identify a valid age range given worlds oldest person was 117\n",
    "if(age >= 0 and age <= 117):\n",
    "    #11. Second if\n",
    "    if age > 65 or age <= 4:\n",
    "        #12. Inner if\n",
    "        if group <= 2:\n",
    "            ticket_price = ticket_price * 0.85\n",
    "        else:\n",
    "            ticket_price = ticket_price * 0.8\n",
    "    #13. The following belongs to the Second if, at comment 11.\n",
    "    elif age < 18 and group >= 4:\n",
    "        ticket_price = ticket_price * 0.9\n",
    "    print(\"Your ticket price is: \", ticket_price)\n",
    "else:\n",
    "    print(\"Not a valid age range.\")\n",
    "\n",
    "#TASK: change the variable values to test how this program works"
   ]
  }
 ],
 "metadata": {
  "colab": {
   "collapsed_sections": [],
   "name": "W1_4_2_Decision_Structures.ipynb",
   "provenance": [],
   "version": "0.3.2"
  },
  "kernelspec": {
   "display_name": "Python 3",
   "language": "python",
   "name": "python3"
  },
  "language_info": {
   "codemirror_mode": {
    "name": "ipython",
    "version": 3
   },
   "file_extension": ".py",
   "mimetype": "text/x-python",
   "name": "python",
   "nbconvert_exporter": "python",
   "pygments_lexer": "ipython3",
   "version": "3.7.2"
  }
 },
 "nbformat": 4,
 "nbformat_minor": 1
}
