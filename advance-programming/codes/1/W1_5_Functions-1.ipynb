{
 "cells": [
  {
   "cell_type": "code",
   "execution_count": null,
   "metadata": {
    "colab": {
     "base_uri": "https://localhost:8080/",
     "height": 160
    },
    "colab_type": "code",
    "executionInfo": {
     "elapsed": 8037,
     "status": "ok",
     "timestamp": 1552552745464,
     "user": {
      "displayName": "Dawn Wood",
      "photoUrl": "",
      "userId": "02443434018297717217"
     },
     "user_tz": 0
    },
    "id": "5rSKvZndGd-W",
    "outputId": "370031fb-226b-4d0b-f174-efc7062beb8b"
   },
   "outputs": [],
   "source": [
    "#1. A Function that simply performs an action\n",
    "def printGreeting():\n",
    "    print(\"Hello \", end=\"\")\n",
    "\n",
    "\n",
    "#2. A function that returns a value\n",
    "def getName():\n",
    "    first = input(\"What is your first name?\")\n",
    "    surname = input(\"What is your surname?\")\n",
    "    return first,surname\n",
    "\n",
    "\n",
    "#3. A function that takes two arguments\n",
    "def makeInitials(firstName, surname):\n",
    "    firstInitial = firstName[0].upper()\n",
    "    secondInitial = surname[0].upper()\n",
    "    return firstInitial + \".\" + secondInitial  + \".\" \n",
    "\n",
    "\n",
    "#4. A function that calls other function\n",
    "def personalised():\n",
    "    name = getName()\n",
    "    printGreeting()\n",
    "    print(\"\", name)\n",
    "\n",
    "    \n",
    "#5. A recursive function (one that calls itself)\n",
    "#   Function to calcualte the nth number in the \n",
    "#   fibonacci sequence\n",
    "def fib(num):\n",
    "    if num <= 1:\n",
    "        return num\n",
    "    else:\n",
    "        return (fib(num - 1) + fib(num - 2))\n",
    "\n",
    "\n",
    "#6. All functions must be defeined before they are called.\n",
    "#   Here is the code that runs ALL the above functions\n",
    "\n",
    "print(\"1-4. Using multiple functions\")\n",
    "name = getName()\n",
    "printGreeting()\n",
    "print(name[0])\n",
    "print(\"Your initials are: \", makeInitials(name[0], name[1]))\n",
    "\n",
    "print(\"\\n5. Outputs the nth number in the Fibonacci sequence\")\n",
    "num = int(input(\"Please enter a number: \"))\n",
    "print(f\"The {num}th number in the Fibonacci sequence is: \", fib(num))\n",
    "\n"
   ]
  }
 ],
 "metadata": {
  "colab": {
   "collapsed_sections": [],
   "name": "W1_Lesson5_Functions.ipynb",
   "provenance": [],
   "version": "0.3.2"
  },
  "kernelspec": {
   "display_name": "Python 3",
   "language": "python",
   "name": "python3"
  },
  "language_info": {
   "codemirror_mode": {
    "name": "ipython",
    "version": 3
   },
   "file_extension": ".py",
   "mimetype": "text/x-python",
   "name": "python",
   "nbconvert_exporter": "python",
   "pygments_lexer": "ipython3",
   "version": "3.7.2"
  }
 },
 "nbformat": 4,
 "nbformat_minor": 1
}
