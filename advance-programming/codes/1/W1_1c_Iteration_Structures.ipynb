{
 "cells": [
  {
   "cell_type": "markdown",
   "metadata": {
    "colab_type": "text",
    "id": "vGirrDpD5YuJ"
   },
   "source": [
    "# Section A: For Loop\n",
    "\n",
    "Remember each cell needs to be run in order to ensure that variables are initialised. If you get an error try rerunning the previous cells in each section."
   ]
  },
  {
   "cell_type": "code",
   "execution_count": null,
   "metadata": {
    "colab": {},
    "colab_type": "code",
    "id": "ibZcgAl33sJD"
   },
   "outputs": [],
   "source": [
    "#1. Demonstrating basic loops, increment and decrement\n",
    "\n",
    "count = 1\n",
    "\n",
    "print(\"Increment by 1\")\n",
    "while count < 5:\n",
    "    print(count,',',end='')\n",
    "  \n",
    "  #2. This is the closest short hand to count++\n",
    "  #   you will find pre and post increment do not \n",
    "  #   function as expected in Python.\n",
    "    count += 1\n",
    "\n",
    "print(\"\\n\\nIncrement by 1\")\n",
    "for i in range(1,6):\n",
    "    print(i,',',end='')\n",
    "\n",
    "\n",
    "print(\"\\n\\nDecrement by 1\")\n",
    "for j in range(6,1,-1):\n",
    "    print(j,',',end='')\n",
    "\n",
    "\n",
    "print(\"\\n\\nIncrement by 3\")\n",
    "for k in range(1,9, 3):\n",
    "    print(k,',',end='')\n",
    "\n",
    "# TASK: change the values in the range() function to see \n",
    "# the variations that can be achieved. "
   ]
  },
  {
   "cell_type": "code",
   "execution_count": null,
   "metadata": {
    "colab": {},
    "colab_type": "code",
    "id": "cn6HmL0spfUn"
   },
   "outputs": [],
   "source": [
    "#3. Calculating Factorials 1 through 12\n",
    "#   factorial of 12 is 479001600\n",
    "\n",
    "factMax = 12\n",
    "result = 1\n",
    "\n",
    "#4. The range function can take 3 parameters: start, stop and steps.\n",
    "#   if you are incrementing by 1 you do not need to add the third parameter.\n",
    "for i in range(1, factMax+1):\n",
    "    result = i * result\n",
    "    print(result)\n",
    "  "
   ]
  },
  {
   "cell_type": "code",
   "execution_count": null,
   "metadata": {
    "colab": {},
    "colab_type": "code",
    "id": "ACv57nKEORsa"
   },
   "outputs": [],
   "source": [
    "#5. Using nested for loops to generate a left handed triangle\n",
    "numStars = 4 ;\n",
    "spaces = numStars - 1;     \n",
    "\n",
    "\n",
    "for i in range(1, numStars+1):  \n",
    "    for j in range(1, i+1):\n",
    "        print(\"*\", end=\"\")\n",
    "    print()\n",
    "\n",
    "# TASK: A more compact version of this loop can be achieved in Python \n",
    "# using a single loop and a special feature of the print statement.\n",
    "# See if you can find out how this is achieved. "
   ]
  },
  {
   "cell_type": "markdown",
   "metadata": {
    "colab_type": "text",
    "id": "meGnq_6R5fFc"
   },
   "source": [
    "# Section B: While Loop"
   ]
  },
  {
   "cell_type": "code",
   "execution_count": null,
   "metadata": {
    "colab": {},
    "colab_type": "code",
    "id": "ey_XusEJmjGA"
   },
   "outputs": [],
   "source": [
    "#6. While loop for reversing a string\n",
    "uoy_string = \"University of York\"\n",
    "count = len(uoy_string)\n",
    "\n",
    "while count > 0:\n",
    "  #7. Here I am using String indexing to create a substring\n",
    "  #   We will look at this in more detail later\n",
    "    print(uoy_string[count-1:count], end=\"\")\n",
    "    count = count -1 "
   ]
  },
  {
   "cell_type": "code",
   "execution_count": null,
   "metadata": {
    "colab": {},
    "colab_type": "code",
    "id": "8FnQwo5J9aXY"
   },
   "outputs": [],
   "source": [
    "#8. This code is a little trivial, but demonstrates the syntax.  \n",
    "#   Print all even numbers that are not divisible by 3 between 1 to 40\n",
    "#   If a number is divisable by 28 the loop will terminate.\n",
    "#   I have not decided what to do as yet when something is divisible by 5.\n",
    "\n",
    "count = 1\n",
    "\n",
    "while count <= 40:\n",
    "    print(count, end=\",\")\n",
    "    if count % 3 == 0:\n",
    "        count += 1\n",
    "        continue         #9. Skip this iteration\n",
    "    elif count % 28 == 0:\n",
    "        break            #10. Break out of the loop altogetehr \n",
    "    elif count % 2 == 0:\n",
    "        print(\"\\nEven number\", count, end=\"\\n\")\n",
    "    elif count % 5 == 0:\n",
    "        pass             #11. Place holder for future code\n",
    "    count += 1"
   ]
  },
  {
   "cell_type": "code",
   "execution_count": null,
   "metadata": {
    "colab": {},
    "colab_type": "code",
    "id": "zlEg2vWY5Jws"
   },
   "outputs": [],
   "source": [
    "#12. Using a while loop to demonstrate the Collatz Conjecture\n",
    "#    with nested decision structure\n",
    "num = 13 ;\n",
    "steps = 0;\n",
    "\n",
    "while num > 1:\n",
    "    steps = steps + 1\n",
    "  \n",
    "  #12.even dived by 2\n",
    "    if num%2 == 0:\n",
    "        num = num // 2\n",
    "        print(\"Even: \", num)\n",
    "  \n",
    "  #13 odd *3 + 1\n",
    "    else:\n",
    "        num = (num * 3) + 1\n",
    "        print(\"Odd: \", num)\n",
    "\n",
    "print(\"Total steps :\", steps) \n",
    "\n",
    "# TASK: Adapt this code to see it can be done using a for loop. "
   ]
  }
 ],
 "metadata": {
  "colab": {
   "collapsed_sections": [],
   "name": "W1_4_3_Iteration_Structures.ipynb",
   "provenance": [],
   "version": "0.3.2"
  },
  "kernelspec": {
   "display_name": "Python 3",
   "language": "python",
   "name": "python3"
  },
  "language_info": {
   "codemirror_mode": {
    "name": "ipython",
    "version": 3
   },
   "file_extension": ".py",
   "mimetype": "text/x-python",
   "name": "python",
   "nbconvert_exporter": "python",
   "pygments_lexer": "ipython3",
   "version": "3.7.2"
  }
 },
 "nbformat": 4,
 "nbformat_minor": 1
}
