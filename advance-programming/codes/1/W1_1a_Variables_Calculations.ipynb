{
 "cells": [
  {
   "cell_type": "markdown",
   "metadata": {
    "colab_type": "text",
    "id": "w8QAKBpesZWM"
   },
   "source": [
    "# Section A: Variables\n",
    "This section gives examples of how variables are used in python. \n",
    "* First run each cell to see what it does. \n",
    "* Then change the values of the variables to test what happens.\n",
    "\n",
    "Each cell needs to be run in order to ensure that variables are initialised. If you get an error try rerunning the previous cells in each section."
   ]
  },
  {
   "cell_type": "code",
   "execution_count": null,
   "metadata": {
    "colab": {},
    "colab_type": "code",
    "id": "xyM9j2KlhQrN"
   },
   "outputs": [],
   "source": [
    "#1. Initialising a String (using double quotes around the literal)\n",
    "name = \"James Wilson\"\n",
    "\n",
    "#2. Initialising an integer (whole number)\n",
    "age = 75\n",
    "\n",
    "#3. Initialising a floating point value (decimal value)\n",
    "height = 175.3\n",
    "\n",
    "#4. Outputting the values of the variables\n",
    "print(name)\n",
    "print(age)\n",
    "print(height)\n"
   ]
  },
  {
   "cell_type": "code",
   "execution_count": null,
   "metadata": {
    "colab": {},
    "colab_type": "code",
    "id": "b1B7T-SkxCcK"
   },
   "outputs": [],
   "source": [
    "#5. As all things are objects in python and their\n",
    "#   type is defined internal as an attribute of that object\n",
    "#   the following is valid. \n",
    "\n",
    "aVaraible = \"Univeristy of York\"\n",
    "\n",
    "print(aVaraible)\n",
    "\n",
    "aVaraible = 5 + 6 + 7\n",
    "\n",
    "print(aVaraible)\n",
    "\n",
    "#6. The variable is simple switching the reference from one object to another"
   ]
  },
  {
   "cell_type": "code",
   "execution_count": null,
   "metadata": {
    "colab": {},
    "colab_type": "code",
    "id": "qZ6aE81TXCUP"
   },
   "outputs": [],
   "source": [
    "#7. Using a built in function to determine the type of variables\n",
    "type(aVaraible)\n",
    "\n",
    "# TASK: change the parameter of the function to find the types \n",
    "# for name, age and height\n",
    "\n",
    "#8. You can only do this one statement at a time in a Juypter Notebook"
   ]
  },
  {
   "cell_type": "code",
   "execution_count": null,
   "metadata": {
    "colab": {},
    "colab_type": "code",
    "id": "NJ_ARPOvXhwB"
   },
   "outputs": [],
   "source": [
    "#9. NOTE: that the variables used here were initlised in the first cell\n",
    "#         Using output statements to check your variable values and types\n",
    "print(f\"CHECK my_name: value: {name}, type: {type(name)}\")\n",
    "\n",
    "#10. The 'f' inside the print function (before the string) indicates \n",
    "#    that you are going to embed variables and other instructions inside\n",
    "#    the string. This will be examined in more detail later on. "
   ]
  },
  {
   "cell_type": "markdown",
   "metadata": {
    "colab_type": "text",
    "id": "jACPFjrbsj-n"
   },
   "source": [
    "# Section B: Calulations\n",
    "Here are examples of simple calulations."
   ]
  },
  {
   "cell_type": "code",
   "execution_count": null,
   "metadata": {
    "colab": {},
    "colab_type": "code",
    "id": "xGP6oJyrmtbl"
   },
   "outputs": [],
   "source": [
    "#11. Finding the average for a set of exam marks\n",
    "\n",
    "#12. Assigning multiple variables\n",
    "exam1 = 56\n",
    "exam2 = 65\n",
    "exam3 = 68\n",
    "exam4 = 64\n",
    "\n",
    "#13. Preforming a calculation and assigning the result to a variable\n",
    "total = (exam1 + exam2 + exam3 + exam4) \n",
    "average = total / 4\n",
    "\n",
    "#14. Print the result of the calculation\n",
    "print(f\"The average mark for the four exams is {average}\")"
   ]
  },
  {
   "cell_type": "code",
   "execution_count": null,
   "metadata": {
    "colab": {},
    "colab_type": "code",
    "id": "yqX0CY03Trfg"
   },
   "outputs": [],
   "source": [
    "#15. Python adheres to standard operator precedence\n",
    "result = -5 + 6 - 3 * 8 / 4\n",
    "print(\"Result 1:\", result)\n",
    "\n",
    "result = -5 + (6 - 3) * 8 / 4\n",
    "print(\"Result 2:\", result)\n",
    "\n",
    "#16. ** is the operator for powers (exponents).\n",
    "#    So here 8**3 is 8 to the power of 3\n",
    "result = -5 + (6 - 3) * 8**3 / 4\n",
    "print(\"Result 3:\", result)"
   ]
  },
  {
   "cell_type": "code",
   "execution_count": null,
   "metadata": {
    "colab": {},
    "colab_type": "code",
    "id": "pwA992dyrCn7"
   },
   "outputs": [],
   "source": [
    "#17. Converting Fahrenheit into Celsius - remember your operator precedence\n",
    "fahrenheit = 56\n",
    "\n",
    "# TASK: What happens here if you remove the parenthesis? \n",
    "celsius = (5/9) * (fahrenheit - 32)\n",
    "\n",
    "#18. Print the result of the calculation\n",
    "print(f\"{fahrenheit} degres fahrenheit is {celsius} degrees celsius\")"
   ]
  },
  {
   "cell_type": "code",
   "execution_count": null,
   "metadata": {
    "colab": {},
    "colab_type": "code",
    "id": "LSFOxZ9-aZ_E"
   },
   "outputs": [],
   "source": [
    "#19. Integer division\n",
    "result = 5 / 2 \n",
    "\n",
    "#20. Notice this time no f, the variable has been passed as a second parameter\n",
    "print(\"The result of 5/2 is \", result)\n",
    "#21. Notice how the variable result is OK with the change of type\n",
    "\n",
    "#22. Although this is integer division you will get a float for the result.\n",
    "#    To get integer division, returning just the whole number you need to:\n",
    "result = 5 // 2\n",
    "\n",
    "print(\"The 2 goes into 5: \", result)\n",
    "\n",
    "#23. Integer division that returns the remainder\n",
    "result = 5 % 2\n",
    "\n",
    "print(\"The remander from 5/2 is: \", result)"
   ]
  },
  {
   "cell_type": "code",
   "execution_count": null,
   "metadata": {
    "colab": {},
    "colab_type": "code",
    "id": "CWlbygI2kYhS"
   },
   "outputs": [],
   "source": [
    "#24. Mathematical operators will only work with appropriate types, so:\n",
    "\n",
    "#25. Notice this time single quotes are used to define a string.\n",
    "#    Either single or double can be used\n",
    "num1 = '56'\n",
    "num2 = '75'\n",
    "\n",
    "result = num1 + num2\n",
    "\n",
    "print(\"The result is: \", result)\n",
    "\n",
    "#26. As these variables are both holding strings what \n",
    "#    you will get is concatenation  not addition"
   ]
  },
  {
   "cell_type": "code",
   "execution_count": null,
   "metadata": {
    "colab": {},
    "colab_type": "code",
    "id": "ftmnToEvT3Sx"
   },
   "outputs": [],
   "source": [
    "#27. As Python is using an interpreter you can evaluate expressions directly\n",
    "# using the interpreter as a calculator.\n",
    "43 + 65\n",
    "\n",
    "#28. You can only do this one expression at a time"
   ]
  }
 ],
 "metadata": {
  "colab": {
   "collapsed_sections": [],
   "name": "W1_4_1_Variables_Calculations.ipynb",
   "provenance": [],
   "version": "0.3.2"
  },
  "kernelspec": {
   "display_name": "Python 3",
   "language": "python",
   "name": "python3"
  },
  "language_info": {
   "codemirror_mode": {
    "name": "ipython",
    "version": 3
   },
   "file_extension": ".py",
   "mimetype": "text/x-python",
   "name": "python",
   "nbconvert_exporter": "python",
   "pygments_lexer": "ipython3",
   "version": "3.7.2"
  }
 },
 "nbformat": 4,
 "nbformat_minor": 1
}
