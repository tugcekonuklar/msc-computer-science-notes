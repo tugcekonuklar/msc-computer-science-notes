{
 "cells": [
  {
   "cell_type": "markdown",
   "metadata": {
    "colab_type": "text",
    "id": "OIV-JNwi6VBL"
   },
   "source": [
    "# Section A: Strings"
   ]
  },
  {
   "cell_type": "code",
   "execution_count": null,
   "metadata": {
    "colab": {},
    "colab_type": "code",
    "id": "onnugmAOjfDR"
   },
   "outputs": [],
   "source": [
    "#1. Initialising a String\n",
    "first_name = \"James\"\n",
    "surname = 'Wilson'\n",
    "\n",
    "#2. Concatenating strings together\n",
    "my_name = first_name + \" \" + surname\n",
    "\n",
    "print(f\"My name is {my_name}.\")"
   ]
  },
  {
   "cell_type": "code",
   "execution_count": null,
   "metadata": {
    "colab": {},
    "colab_type": "code",
    "id": "4E0g0ZcjsWEW"
   },
   "outputs": [],
   "source": [
    "#3. Strings are simply a list of characters and as such\n",
    "#   can be accessed through indexing\n",
    "uoy_string = \"University of York\"\n",
    "\n",
    "#4. Print the complete string\n",
    "print(\"4. The string: \", uoy_string) \n",
    "\n",
    "#5. Print first character only\n",
    "print(\"5. 1st char: \", uoy_string[0])    \n",
    "\n",
    "#6. Prints the string starting from 3rd character\n",
    "print(\"6. From the 3rd char: \", uoy_string[2:])  \n",
    "\n",
    "#7. Prints characters starting from 2nd up to and including 7th\n",
    "print(\"7. 2nd to 7th char: \", uoy_string[1:8])   \n",
    "\n",
    "#8. Prints the whole string 4 times\n",
    "print(\"8. Multiple copies: \", uoy_string * 4)  \n",
    "\n",
    "\n",
    "#9. Indexing must always be in whole numbers\n",
    "#   like arrays strings are indexed from 0\n",
    "#   a segment of s string is referred to as a slice\n",
    "\n",
    "# TASK: how would you print all the even characters in this string"
   ]
  },
  {
   "cell_type": "code",
   "execution_count": null,
   "metadata": {
    "colab": {},
    "colab_type": "code",
    "id": "SGIkVBiD6kDn"
   },
   "outputs": [],
   "source": [
    "#10. Python has a range of functions that work with Strings\n",
    "uoy_string = \"University of York\"\n",
    "\n",
    "#11. The length of the string\n",
    "print(\"10. Length of string\", len(uoy_string))\n",
    "\n",
    "\n",
    "#12. As a string is effectively a list it can be used directly in a for loop\n",
    "print('\\n12. Outputing each character with a for loop:') \n",
    "for char in uoy_string:\n",
    "  print(char, end=\"-\")\n",
    "    \n",
    "#13. To use a while loop we need the length of the string \n",
    "#    as part of the condition\n",
    "print('\\n\\n13. Outputing each character with a while loop:') \n",
    "count = 0\n",
    "while count < len(uoy_string):\n",
    "  print(uoy_string[count], end='*')\n",
    "  count += 1\n",
    "\n",
    "#14. Remember indexing is from 0 to length -1, so use < to stop the loop before\n",
    "#    it reaches the of the string and the index becomes out of bounds"
   ]
  },
  {
   "cell_type": "code",
   "execution_count": null,
   "metadata": {
    "colab": {},
    "colab_type": "code",
    "id": "l5aLBCJB_W1r"
   },
   "outputs": [],
   "source": [
    "#15. Strings are immutable which means they cannot be changed once created\n",
    "#    this can be demonstrated using the id() function\n",
    "\n",
    "#16. This is a list object which is mutable (can be changed)\n",
    "myList = [5,6,7]\n",
    "\n",
    "#17. Every object has an ID\n",
    "print(\"17.\", id(myList), \"contains\", myList)\n",
    "\n",
    "#18. Here I am changing the object by adding a value to the list\n",
    "myList.append(8)\n",
    "\n",
    "#19. The append() function has changed the existing object.\n",
    "#    The id has stayed the same while the contents have chnaged\n",
    "print(\"19.\", id(myList), \"contains\", myList, '\\n')\n",
    "\n",
    "#20. This is a string and its ID\n",
    "myString = \"Hello World\"\n",
    "print(\"20.\", id(myString), \"contains\", myString)\n",
    "\n",
    "#21. This creates a new String as the ID has changed,\n",
    "#    which is assigned to a new variable\n",
    "myString2 = myString.replace('o', '*')\n",
    "print(\"21.\", id(myString2), \"contains\", myString2)\n",
    "\n",
    "#22.  the old string has not been changed\n",
    "print(\"22.\", id(myString), \"contains\", myString, '\\n')\n",
    "\n",
    "#23. If we do this again and assign to the existing variable \n",
    "# there will be a new ID\n",
    "myString = myString.lower()\n",
    "print(\"23.\",id(myString), \"contains\", myString)\n",
    "\n",
    "#24. In this way it can be seen that the replace() method \n",
    "#    does not effect/change the String that it is acting on"
   ]
  },
  {
   "cell_type": "code",
   "execution_count": null,
   "metadata": {
    "colab": {},
    "colab_type": "code",
    "id": "e1HEaLug9_3f"
   },
   "outputs": [],
   "source": [
    "#25. Other string functions:\n",
    "uoy_string = \"University of York\"\n",
    "\n",
    "#26. counts the number of 'i' in the string\n",
    "print(\"26.\", uoy_string.count('i')) \n",
    "\n",
    "#27. creates a new string in lower case\n",
    "print(\"27.\", uoy_string.lower()) \n",
    "\n",
    "#28. returns true if all characters are in lower case\n",
    "print(\"28.\",uoy_string.islower()) \n",
    "\n",
    "#29. returns the index of the first occurrence\n",
    "print(\"29.\", uoy_string.index('Y')) \n",
    "\n",
    "#30. creates a list of words from the string\n",
    "print(\"30.\", uoy_string.split()) \n",
    "\n",
    "#31. Remember anything that looks like it is changing the original string\n",
    "#    like .lower() is ALWAYS creating and returning a new string\n",
    "#    that is why the test for lower() returns false, because the \n",
    "#    original string is never altered."
   ]
  },
  {
   "cell_type": "code",
   "execution_count": null,
   "metadata": {
    "colab": {},
    "colab_type": "code",
    "id": "X8gpnyvR6j7i"
   },
   "outputs": [],
   "source": [
    "#32. Comparing strings\n",
    "\n",
    "myFruit = \"Melon\"\n",
    "myOtherFruit = \"Banana\"\n",
    "\n",
    "if myFruit < myOtherFruit:\n",
    "    print(myFruit, \"comes before\", myOtherFruit)\n",
    "elif myFruit == myOtherFruit:\n",
    "    print(myFruit, \"is the same as\", myOtherFruit)\n",
    "else:\n",
    "    print(myFruit, \"comes after\", myOtherFruit)\n",
    "    \n",
    "# TASK: change the string in myFruit to see how this works"
   ]
  },
  {
   "cell_type": "markdown",
   "metadata": {
    "colab_type": "text",
    "id": "leUQBZr06M2_"
   },
   "source": [
    "# Section B: Formating Output"
   ]
  },
  {
   "cell_type": "code",
   "execution_count": null,
   "metadata": {
    "colab": {},
    "colab_type": "code",
    "id": "2d7y1Tq9Hlfe"
   },
   "outputs": [],
   "source": [
    "#33. Demonstrating different ways to structure output.\n",
    "\n",
    "num = 15\n",
    "color = \"blue\"\n",
    "\n",
    "#34. Simple output\n",
    "print(num)\n",
    "\n",
    "#35. Adding context to output\n",
    "print(\"35. My lucky number is\", num)\n",
    "\n",
    "#36. Notice that in both this and the output above a space is added\n",
    "#    automatically when concatenating the \n",
    "#    values in the variables and the strings\n",
    "print(\"36. My lucky number is\", num, \"and my favourite colour is\", color)\n",
    "\n",
    "\n",
    "#37. Here the f at the beginning of the string indicates that there are\n",
    "#    formatting instructions imbedded in the string\n",
    "print(f\"37. My lucky number is {num} and my favourite colour is {color}\")\n",
    "\n",
    "#38. Curly braces { } indicate a variable  "
   ]
  },
  {
   "cell_type": "code",
   "execution_count": null,
   "metadata": {
    "colab": {
     "base_uri": "https://localhost:8080/",
     "height": 102
    },
    "colab_type": "code",
    "executionInfo": {
     "elapsed": 539,
     "status": "ok",
     "timestamp": 1551279316894,
     "user": {
      "displayName": "Dawn Wood",
      "photoUrl": "",
      "userId": "02443434018297717217"
     },
     "user_tz": 0
    },
    "id": "szua1-JKJ6k4",
    "outputId": "84887ea9-1457-494c-9a84-c71a272dad2f",
    "scrolled": false
   },
   "outputs": [],
   "source": [
    "#39. Demonstrating output and string formatting instructions\n",
    "\n",
    "myName = \"Frank\"\n",
    "myAge = 31\n",
    "myHeight = 1.65678\n",
    "myWeight = 76\n",
    "myHours = 8\n",
    "\n",
    "myLikes = \"Bikes Cars Boats\".split() #40. Creates a list of words\n",
    "\n",
    "#41. Inserting the contents of a variable \n",
    "print(f\"41. Hello I am {myName} and I am {myAge} years old\")\n",
    "\n",
    "#42. Formatting numbers, first a float to 2dp, second an integer to 4dp float\n",
    "print(f\"42. I am {myHeight:.2f}m tall and weigh {myWeight:.4f}kg\")\n",
    "\n",
    "#43. Inserting functions an expressions\n",
    "print(f\"43. My name has {len(myName)} letters, I work {myHours * 4}hours per week\")\n",
    "\n",
    "#44. Adding space (fixed widths)\n",
    "print(f\"44. I like: {myLikes[0]:10}{myLikes[1]:10}{myLikes[2]}\")\n",
    "\n",
    "\n",
    "#45. These can also be used with string.format() structure like this:\n",
    "print(\"45. I am {:.2f}m tall and weigh {:.4f}kg\".format(myHeight, myWeight))\n",
    "\n",
    "#46. There are many more formatting features which you will need to explore"
   ]
  },
  {
   "cell_type": "markdown",
   "metadata": {
    "colab_type": "text",
    "id": "wkeWj3kB6rxl"
   },
   "source": [
    "# Section C: Getting Input"
   ]
  },
  {
   "cell_type": "code",
   "execution_count": null,
   "metadata": {
    "colab": {},
    "colab_type": "code",
    "id": "ZdLtrPK20GW-"
   },
   "outputs": [],
   "source": [
    "#47. Getting user input as a string\n",
    "myName = input(\"\\tEnter your name: \")\n",
    "\n",
    "#48. Getting user input as an integer\n",
    "myAge = int(input(\"\\tEnter your age: \"))\n",
    "\n",
    "#49. Getting user input floating point value (decimal value)\n",
    "myHeight = float(input(\"\\tEnter your height: \"))\n",
    "\n",
    "#50. Outputting the values of the variables\n",
    "print(f\"\\nMy name is {myName}, \" + \n",
    "      f\"I am {myAge} years old,\" +\n",
    "      f\" and I am {myHeight}m tall.\")\n",
    "\n",
    "#TASK: Test what happens when the user enters the wrong type."
   ]
  },
  {
   "cell_type": "code",
   "execution_count": null,
   "metadata": {
    "colab": {},
    "colab_type": "code",
    "id": "sXSfVuqK3yO8"
   },
   "outputs": [],
   "source": [
    "#51. Adding a try statement around code that may fail (throw an exception)\n",
    "#    gives us the option to let the user know something has gone wrong\n",
    "#    and/or handle that error in some way\n",
    "\n",
    "try:\n",
    "    myAge = int(input(\"Enter your age: \"))\n",
    "except: \n",
    "    print(\"Something has gone wrong\")\n",
    "\n",
    "#52. We will look at exceptions in greater detail later in this unit. "
   ]
  }
 ],
 "metadata": {
  "colab": {
   "collapsed_sections": [],
   "name": "W1_9_Strings_And_I_O.ipynb",
   "provenance": [],
   "version": "0.3.2"
  },
  "kernelspec": {
   "display_name": "Python 3",
   "language": "python",
   "name": "python3"
  },
  "language_info": {
   "codemirror_mode": {
    "name": "ipython",
    "version": 3
   },
   "file_extension": ".py",
   "mimetype": "text/x-python",
   "name": "python",
   "nbconvert_exporter": "python",
   "pygments_lexer": "ipython3",
   "version": "3.7.2"
  }
 },
 "nbformat": 4,
 "nbformat_minor": 1
}
