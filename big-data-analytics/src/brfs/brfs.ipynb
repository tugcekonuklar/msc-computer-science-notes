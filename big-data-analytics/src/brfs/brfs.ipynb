{
 "cells": [
  {
   "cell_type": "markdown",
   "metadata": {},
   "source": [
    "# Data Exploration\n"
   ]
  },
  {
   "cell_type": "code",
   "execution_count": 1,
   "metadata": {},
   "outputs": [],
   "source": [
    "import pandas as pd\n",
    "import numpy as np\n",
    "from pandas_profiling import ProfileReport\n",
    "import glob\n",
    "import os\n",
    "from pathlib import Path\n",
    "import hashlib\n",
    "import regex as re\n",
    "import time"
   ]
  },
  {
   "cell_type": "code",
   "execution_count": 2,
   "metadata": {},
   "outputs": [],
   "source": [
    "# load the csv file\n",
    "def filename_to_path(filename):\n",
    "    path_str = None\n",
    "    try:\n",
    "        cur_dir = os.getcwd() + '/'\n",
    "        full_file_path = Path(glob.glob(f\"{cur_dir}/**/{filename}\", recursive = True)[0]).resolve()\n",
    "        path_str = str(full_file_path.parents[0])\n",
    "    except Exception as ex:\n",
    "        print(ex)\n",
    "    return path_str\n",
    "    \n",
    "def csv_to_df(filename):\n",
    "    df = None\n",
    "    df_processed = pd.DataFrame()\n",
    "    pkl_processed_full_path = pd.DataFrame()\n",
    "    try:\n",
    "        full_dir_path = filename_to_path(filename)\n",
    "        full_file_path = f'{full_dir_path}/{filename}'\n",
    "        print(f'found path: {full_file_path} for {filename}')\n",
    "        base_filename = Path(filename).stem\n",
    "        with open(full_file_path, 'r', encoding='utf-8') as f:\n",
    "            bytes = f.read()\n",
    "            readable_hash = hashlib.sha256(str(bytes).encode('utf-8')).hexdigest()[:7];\n",
    "            pkl_full_path = f'{full_dir_path}/{base_filename}_{readable_hash}.pkl'\n",
    "            pkl_processed_full_path = f'{full_dir_path}/{base_filename}_{readable_hash}_proc.pkl'\n",
    "            try:\n",
    "                df = pd.read_pickle(pkl_full_path)\n",
    "                print(f'loaded pickle {pkl_full_path} to df')\n",
    "                try:\n",
    "                    df_processed = pd.read_pickle(pkl_processed_full_path)\n",
    "                    print(f'loaded processed pickle {pkl_processed_full_path} to df')\n",
    "                except:        \n",
    "                    pass\n",
    "            except:        \n",
    "                df = pd.read_csv(f'{full_file_path}', low_memory=False)\n",
    "                print('loaded csv to df')\n",
    "                df.to_pickle(pkl_full_path)\n",
    "    except Exception as ex:\n",
    "        print(ex)\n",
    "    return df, df_processed, pkl_processed_full_path"
   ]
  },
  {
   "cell_type": "code",
   "execution_count": 3,
   "metadata": {},
   "outputs": [
    {
     "name": "stdout",
     "output_type": "stream",
     "text": [
      "found path: /Users/tugcekonuklar/Projects/workspace/msc-computer-science-notes/big-data-analytics/src/brfs/brfss_for_bda_2021.csv for brfss_for_bda_2021.csv\n",
      "loaded pickle /Users/tugcekonuklar/Projects/workspace/msc-computer-science-notes/big-data-analytics/src/brfs/brfss_for_bda_2021_0782d35.pkl to df\n"
     ]
    }
   ],
   "source": [
    "df, df_processed, pkl_processed_full_path = csv_to_df('brfss_for_bda_2021.csv')"
   ]
  },
  {
   "cell_type": "code",
   "execution_count": 4,
   "metadata": {},
   "outputs": [
    {
     "data": {
      "application/vnd.jupyter.widget-view+json": {
       "model_id": "e0d284964a5046438c9f4e0bee59ef61",
       "version_major": 2,
       "version_minor": 0
      },
      "text/plain": [
       "Summarize dataset:   0%|          | 0/427 [00:00<?, ?it/s]"
      ]
     },
     "metadata": {},
     "output_type": "display_data"
    },
    {
     "name": "stderr",
     "output_type": "stream",
     "text": [
      "/Users/tugcekonuklar/anaconda3/lib/python3.7/site-packages/pandas_profiling/model/correlations.py:152: UserWarning: There was an attempt to calculate the cramers correlation, but this failed.\n",
      "To hide this warning, disable the calculation\n",
      "(using `df.profile_report(correlations={\"cramers\": {\"calculate\": False}})`\n",
      "If this is problematic for your use case, please report this as an issue:\n",
      "https://github.com/pandas-profiling/pandas-profiling/issues\n",
      "(include the error message: 'No data; `observed` has size 0.')\n",
      "  (include the error message: '{error}')\"\"\"\n"
     ]
    },
    {
     "data": {
      "application/vnd.jupyter.widget-view+json": {
       "model_id": "4828a1288a044c8fbbb6d25ef902bcc6",
       "version_major": 2,
       "version_minor": 0
      },
      "text/plain": [
       "Generate report structure:   0%|          | 0/1 [00:00<?, ?it/s]"
      ]
     },
     "metadata": {},
     "output_type": "display_data"
    },
    {
     "data": {
      "application/vnd.jupyter.widget-view+json": {
       "model_id": "5f5eb65e821249de97b04c0deca07cb7",
       "version_major": 2,
       "version_minor": 0
      },
      "text/plain": [
       "Render HTML:   0%|          | 0/1 [00:00<?, ?it/s]"
      ]
     },
     "metadata": {},
     "output_type": "display_data"
    },
    {
     "data": {
      "application/vnd.jupyter.widget-view+json": {
       "model_id": "a593f6dac95841caa21db43310cbf848",
       "version_major": 2,
       "version_minor": 0
      },
      "text/plain": [
       "Export report to file:   0%|          | 0/1 [00:00<?, ?it/s]"
      ]
     },
     "metadata": {},
     "output_type": "display_data"
    }
   ],
   "source": [
    "df.profile_report(correlations={\"cramers\": {\"calculate\": False}})\n",
    "prof = ProfileReport(df)\n",
    "prof.to_file(output_file='output.html')"
   ]
  },
  {
   "cell_type": "code",
   "execution_count": null,
   "metadata": {},
   "outputs": [],
   "source": []
  }
 ],
 "metadata": {
  "kernelspec": {
   "display_name": "Python 3",
   "language": "python",
   "name": "python3"
  },
  "language_info": {
   "codemirror_mode": {
    "name": "ipython",
    "version": 3
   },
   "file_extension": ".py",
   "mimetype": "text/x-python",
   "name": "python",
   "nbconvert_exporter": "python",
   "pygments_lexer": "ipython3",
   "version": "3.7.3"
  }
 },
 "nbformat": 4,
 "nbformat_minor": 2
}
